{
 "cells": [
  {
   "cell_type": "markdown",
   "id": "bd23b76b",
   "metadata": {},
   "source": [
    "<b>Universidad Galileo</b><br/>\n",
    "<b>Maestría de Ciencia de Datos</b><br/>\n",
    "<b>Statistical Learning I</b><br/>\n",
    "<b>Jose Godoy</b><br/>\n",
    "<b>Carnet 22000570</b><br/>\n",
    "<b>15 de julio 2022</b><br/>"
   ]
  },
  {
   "cell_type": "markdown",
   "id": "c4e7d093",
   "metadata": {},
   "source": [
    "# 1. Cargando librerías"
   ]
  },
  {
   "cell_type": "code",
   "execution_count": 1,
   "id": "8eb028c6",
   "metadata": {},
   "outputs": [],
   "source": [
    "import numpy as np\n",
    "import pandas as pd\n",
    "import matplotlib.pyplot as plt"
   ]
  },
  {
   "cell_type": "markdown",
   "id": "5d04b5fe",
   "metadata": {},
   "source": [
    "# 2. Cargando set de datos"
   ]
  },
  {
   "cell_type": "code",
   "execution_count": 2,
   "id": "bf7cd6db",
   "metadata": {},
   "outputs": [],
   "source": [
    "xls = pd.ExcelFile('estaturas.xlsx')\n",
    "normales = pd.read_excel(xls, 'normales')\n",
    "valtest_normales = pd.read_excel(xls, 'valtest(normales)')\n",
    "valtest_anomalias = pd.read_excel(xls, 'valtest(anomalias)')"
   ]
  },
  {
   "cell_type": "markdown",
   "id": "f9af6ded",
   "metadata": {},
   "source": [
    "Renombrando columnas"
   ]
  },
  {
   "cell_type": "code",
   "execution_count": 3,
   "id": "a5df153e",
   "metadata": {},
   "outputs": [],
   "source": [
    "normales = pd.DataFrame({\"altura\": normales.iloc[:,0], \"edad\": normales.iloc[:,1]})\n",
    "valtest_normales = pd.DataFrame({\"altura\": valtest_normales.iloc[:,0], \"edad\": valtest_normales.iloc[:,1]})\n",
    "valtest_anomalias = pd.DataFrame({\"altura\": valtest_anomalias.iloc[:,0], \"edad\": valtest_anomalias.iloc[:,1]})"
   ]
  },
  {
   "cell_type": "markdown",
   "id": "8301ca35",
   "metadata": {},
   "source": [
    "Normalización"
   ]
  },
  {
   "cell_type": "code",
   "execution_count": 4,
   "id": "8cd8771d",
   "metadata": {},
   "outputs": [],
   "source": [
    "altura_mean = normales.altura.mean(axis=0)\n",
    "altura_std = normales.altura.std(axis=0)\n",
    "edad_mean = normales.edad.mean(axis=0)\n",
    "edad_std = normales.edad.std(axis=0)"
   ]
  },
  {
   "cell_type": "code",
   "execution_count": 5,
   "id": "a64914ae",
   "metadata": {},
   "outputs": [],
   "source": [
    "normales_n = normales.copy()\n",
    "normales_n.altura = (normales.altura-altura_mean)/altura_std\n",
    "normales_n.edad = (normales.edad-edad_mean)/edad_std\n",
    "\n",
    "valtest_normales_n = valtest_normales.copy()\n",
    "valtest_normales_n.altura = (valtest_normales.altura-altura_mean)/altura_std\n",
    "valtest_normales_n.edad = (valtest_normales.edad-edad_mean)/edad_std\n",
    "\n",
    "valtest_anomalias_n = valtest_anomalias.copy()\n",
    "valtest_anomalias_n.altura = (valtest_anomalias.altura-altura_mean)/altura_std\n",
    "valtest_anomalias_n.edad = (valtest_anomalias.edad-edad_mean)/edad_std"
   ]
  },
  {
   "cell_type": "markdown",
   "id": "1facdb0e",
   "metadata": {},
   "source": [
    "# 3. Algoritmo K-Means"
   ]
  },
  {
   "cell_type": "code",
   "execution_count": 6,
   "id": "f0cfd56c",
   "metadata": {},
   "outputs": [],
   "source": [
    "#Indices aleatorios\n",
    "np.random.seed(2022)"
   ]
  },
  {
   "cell_type": "code",
   "execution_count": 7,
   "id": "e89958ff",
   "metadata": {},
   "outputs": [],
   "source": [
    "#Algoritmo recursivo\n",
    "def k_means(k_mean_param, k_mean_set, kparams, contador, ciclo):\n",
    "    posicion_kparams = kparams.copy()\n",
    "    longitud = len(k_mean_set)\n",
    "    #Creando array de distancias y asignación de clusters\n",
    "    distancias = np.full(longitud, -1.0)\n",
    "    cluster = np.zeros(longitud)\n",
    "    #Para cada registro\n",
    "    for i in range(longitud):\n",
    "        i_edad = k_mean_set.iloc[i,:].edad\n",
    "        i_altura = k_mean_set.iloc[i,:].altura\n",
    "        #Encontrando el centroide más cercano\n",
    "        for j in range(k_mean_param):\n",
    "            k_edad = kparams.iloc[j,:].edad\n",
    "            k_altura = kparams.iloc[j,:].altura\n",
    "            #Distancia\n",
    "            distance_k = np.sqrt((k_edad - i_edad) ** 2 + (k_altura - i_altura) ** 2)\n",
    "            if( distancias[i]==-1 or distancias[i]>distance_k):\n",
    "                #Distancia más corta\n",
    "                distancias[i] = distance_k\n",
    "                cluster[i] = j\n",
    "    #Reasignando posición de los clusters\n",
    "    for j in range(k_mean_param):\n",
    "        kparams.iloc[j,:].edad = k_mean_set[\"edad\"][cluster == j].mean(axis=0)\n",
    "        kparams.iloc[j,:].altura = k_mean_set[\"altura\"][cluster == j].mean(axis=0)\n",
    "    #Incrementar el contador si la posición de los clusters es la misma\n",
    "    if( posicion_kparams.equals(kparams) ):\n",
    "        contador=contador+1\n",
    "    #Si la posición de los clusters es la misma dos veces consecutivamente\n",
    "    if( contador >= 2):\n",
    "        #Regresar parametros\n",
    "        return (cluster, kparams, ciclo)\n",
    "    else:\n",
    "        #Repetir algoritmo\n",
    "        return k_means(k_mean_param, k_mean_set, kparams, contador, ciclo + 1)"
   ]
  },
  {
   "cell_type": "code",
   "execution_count": 8,
   "id": "41be994b",
   "metadata": {},
   "outputs": [],
   "source": [
    "#Algoritmo kmeans\n",
    "def k_means_algoritmo(k_mean_param, k_mean_set):\n",
    "    #Calculando posición de clusters aleatoria\n",
    "    longitud = len(k_mean_set)\n",
    "    indices = np.random.choice(longitud, k_mean_param, replace=False)\n",
    "    kparams = k_mean_set.iloc[indices,:].copy()\n",
    "    return k_means(k_mean_param, k_mean_set, kparams, 0, 1)"
   ]
  },
  {
   "cell_type": "markdown",
   "id": "33d6347d",
   "metadata": {},
   "source": [
    "## 3.1. Algoritmo K-Means - Experimento 1, k = 3"
   ]
  },
  {
   "cell_type": "markdown",
   "id": "e3702060",
   "metadata": {},
   "source": [
    "Ejecutando algoritmo K-means recursivo:"
   ]
  },
  {
   "cell_type": "code",
   "execution_count": 9,
   "id": "83a2c511",
   "metadata": {},
   "outputs": [],
   "source": [
    "(cluster, kparams, ciclos) = k_means_algoritmo(3, normales_n)"
   ]
  },
  {
   "cell_type": "code",
   "execution_count": 10,
   "id": "3fda4bb3",
   "metadata": {},
   "outputs": [
    {
     "name": "stdout",
     "output_type": "stream",
     "text": [
      "El algoritmo se ejecutó 5 veces después de 2 iteraciones en el mismo lugar.\n"
     ]
    }
   ],
   "source": [
    "print(\"El algoritmo se ejecutó\",ciclos,\"veces después de 2 iteraciones en el mismo lugar.\")"
   ]
  },
  {
   "cell_type": "markdown",
   "id": "69d9097c",
   "metadata": {},
   "source": [
    "Clusters encontrados:"
   ]
  },
  {
   "cell_type": "code",
   "execution_count": 11,
   "id": "dee07633",
   "metadata": {},
   "outputs": [
    {
     "name": "stdout",
     "output_type": "stream",
     "text": [
      "     altura       edad\n",
      "0  1.670769  30.692308\n",
      "1  1.774000  25.450000\n",
      "2  1.816000  42.800000\n"
     ]
    }
   ],
   "source": [
    "kparams.altura = (kparams.altura * altura_std) + altura_mean\n",
    "kparams.edad = (kparams.edad * edad_std) + edad_mean\n",
    "print(kparams.reset_index(drop=True))"
   ]
  },
  {
   "cell_type": "markdown",
   "id": "8d7a126c",
   "metadata": {},
   "source": [
    "Tabla de edades y cluster asignado:"
   ]
  },
  {
   "cell_type": "code",
   "execution_count": 12,
   "id": "693156d2",
   "metadata": {},
   "outputs": [
    {
     "data": {
      "text/html": [
       "<div>\n",
       "<style scoped>\n",
       "    .dataframe tbody tr th:only-of-type {\n",
       "        vertical-align: middle;\n",
       "    }\n",
       "\n",
       "    .dataframe tbody tr th {\n",
       "        vertical-align: top;\n",
       "    }\n",
       "\n",
       "    .dataframe thead th {\n",
       "        text-align: right;\n",
       "    }\n",
       "</style>\n",
       "<table border=\"1\" class=\"dataframe\">\n",
       "  <thead>\n",
       "    <tr style=\"text-align: right;\">\n",
       "      <th></th>\n",
       "      <th>altura</th>\n",
       "      <th>edad</th>\n",
       "      <th>cluster</th>\n",
       "      <th>cluster_altura</th>\n",
       "      <th>cluster_edad</th>\n",
       "    </tr>\n",
       "  </thead>\n",
       "  <tbody>\n",
       "    <tr>\n",
       "      <th>0</th>\n",
       "      <td>1.77</td>\n",
       "      <td>26</td>\n",
       "      <td>1.0</td>\n",
       "      <td>1.774000</td>\n",
       "      <td>25.450000</td>\n",
       "    </tr>\n",
       "    <tr>\n",
       "      <th>1</th>\n",
       "      <td>1.74</td>\n",
       "      <td>31</td>\n",
       "      <td>0.0</td>\n",
       "      <td>1.670769</td>\n",
       "      <td>30.692308</td>\n",
       "    </tr>\n",
       "    <tr>\n",
       "      <th>2</th>\n",
       "      <td>1.72</td>\n",
       "      <td>24</td>\n",
       "      <td>1.0</td>\n",
       "      <td>1.774000</td>\n",
       "      <td>25.450000</td>\n",
       "    </tr>\n",
       "    <tr>\n",
       "      <th>3</th>\n",
       "      <td>1.78</td>\n",
       "      <td>34</td>\n",
       "      <td>1.0</td>\n",
       "      <td>1.774000</td>\n",
       "      <td>25.450000</td>\n",
       "    </tr>\n",
       "    <tr>\n",
       "      <th>4</th>\n",
       "      <td>1.65</td>\n",
       "      <td>32</td>\n",
       "      <td>0.0</td>\n",
       "      <td>1.670769</td>\n",
       "      <td>30.692308</td>\n",
       "    </tr>\n",
       "  </tbody>\n",
       "</table>\n",
       "</div>"
      ],
      "text/plain": [
       "   altura  edad  cluster  cluster_altura  cluster_edad\n",
       "0    1.77    26      1.0        1.774000     25.450000\n",
       "1    1.74    31      0.0        1.670769     30.692308\n",
       "2    1.72    24      1.0        1.774000     25.450000\n",
       "3    1.78    34      1.0        1.774000     25.450000\n",
       "4    1.65    32      0.0        1.670769     30.692308"
      ]
     },
     "execution_count": 12,
     "metadata": {},
     "output_type": "execute_result"
    }
   ],
   "source": [
    "normales_kmeans = normales.copy()\n",
    "normales_kmeans[\"cluster\"] = cluster\n",
    "normales_kmeans[\"cluster_altura\"] = np.array(kparams.iloc[cluster,:].altura)\n",
    "normales_kmeans[\"cluster_edad\"] = np.array(kparams.iloc[cluster,:].edad)\n",
    "normales_kmeans.head()"
   ]
  },
  {
   "cell_type": "markdown",
   "id": "93a05687",
   "metadata": {},
   "source": [
    "Gráfica de puntos"
   ]
  },
  {
   "cell_type": "code",
   "execution_count": 13,
   "id": "233eefc7",
   "metadata": {
    "scrolled": true
   },
   "outputs": [
    {
     "data": {
      "text/plain": [
       "<matplotlib.collections.PathCollection at 0x1a3d1c787c0>"
      ]
     },
     "execution_count": 13,
     "metadata": {},
     "output_type": "execute_result"
    },
    {
     "data": {
      "image/png": "[encoded data removed]",
      "text/plain": [
       "<Figure size 432x288 with 1 Axes>"
      ]
     },
     "metadata": {
      "needs_background": "light"
     },
     "output_type": "display_data"
    }
   ],
   "source": [
    "plt.scatter(normales_kmeans.altura, normales_kmeans.edad, alpha=1, c=normales_kmeans.cluster)"
   ]
  },
  {
   "cell_type": "markdown",
   "id": "704fe638",
   "metadata": {},
   "source": [
    "## 3.2. Algoritmo K-Means - Experimento 2, k = 4"
   ]
  },
  {
   "cell_type": "markdown",
   "id": "38a8c6b5",
   "metadata": {},
   "source": [
    "Ejecutando algoritmo K-means recursivo:"
   ]
  },
  {
   "cell_type": "code",
   "execution_count": 22,
   "id": "ffa1660b",
   "metadata": {},
   "outputs": [],
   "source": [
    "(cluster2, kparams2, ciclos2) = k_means_algoritmo(4, normales_n)"
   ]
  },
  {
   "cell_type": "code",
   "execution_count": 24,
   "id": "f7bb1628",
   "metadata": {},
   "outputs": [
    {
     "name": "stdout",
     "output_type": "stream",
     "text": [
      "El algoritmo se ejecutó 5 veces después de 2 iteraciones en el mismo lugar.\n"
     ]
    }
   ],
   "source": [
    "print(\"El algoritmo se ejecutó\",ciclos2,\"veces después de 2 iteraciones en el mismo lugar.\")"
   ]
  },
  {
   "cell_type": "markdown",
   "id": "81c17f52",
   "metadata": {},
   "source": [
    "Clusters encontrados:"
   ]
  },
  {
   "cell_type": "code",
   "execution_count": 23,
   "id": "b873a8f9",
   "metadata": {},
   "outputs": [
    {
     "name": "stdout",
     "output_type": "stream",
     "text": [
      "     altura       edad\n",
      "0  1.667333  29.066667\n",
      "1  1.773889  24.611111\n",
      "2  1.754000  37.533333\n",
      "3  1.583333  26.333333\n"
     ]
    }
   ],
   "source": [
    "kparams2.altura = (kparams2.altura * altura_std) + altura_mean\n",
    "kparams2.edad = (kparams2.edad * edad_std) + edad_mean\n",
    "print(kparams2.reset_index(drop=True))"
   ]
  },
  {
   "cell_type": "markdown",
   "id": "03d5bd4a",
   "metadata": {},
   "source": [
    "Tabla de edades y cluster asignado:"
   ]
  },
  {
   "cell_type": "code",
   "execution_count": 25,
   "id": "42b67dc9",
   "metadata": {},
   "outputs": [
    {
     "data": {
      "text/html": [
       "<div>\n",
       "<style scoped>\n",
       "    .dataframe tbody tr th:only-of-type {\n",
       "        vertical-align: middle;\n",
       "    }\n",
       "\n",
       "    .dataframe tbody tr th {\n",
       "        vertical-align: top;\n",
       "    }\n",
       "\n",
       "    .dataframe thead th {\n",
       "        text-align: right;\n",
       "    }\n",
       "</style>\n",
       "<table border=\"1\" class=\"dataframe\">\n",
       "  <thead>\n",
       "    <tr style=\"text-align: right;\">\n",
       "      <th></th>\n",
       "      <th>altura</th>\n",
       "      <th>edad</th>\n",
       "      <th>cluster</th>\n",
       "      <th>cluster_altura</th>\n",
       "      <th>cluster_edad</th>\n",
       "    </tr>\n",
       "  </thead>\n",
       "  <tbody>\n",
       "    <tr>\n",
       "      <th>0</th>\n",
       "      <td>1.77</td>\n",
       "      <td>26</td>\n",
       "      <td>1.0</td>\n",
       "      <td>1.773889</td>\n",
       "      <td>24.611111</td>\n",
       "    </tr>\n",
       "    <tr>\n",
       "      <th>1</th>\n",
       "      <td>1.74</td>\n",
       "      <td>31</td>\n",
       "      <td>2.0</td>\n",
       "      <td>1.754000</td>\n",
       "      <td>37.533333</td>\n",
       "    </tr>\n",
       "    <tr>\n",
       "      <th>2</th>\n",
       "      <td>1.72</td>\n",
       "      <td>24</td>\n",
       "      <td>1.0</td>\n",
       "      <td>1.773889</td>\n",
       "      <td>24.611111</td>\n",
       "    </tr>\n",
       "    <tr>\n",
       "      <th>3</th>\n",
       "      <td>1.78</td>\n",
       "      <td>34</td>\n",
       "      <td>2.0</td>\n",
       "      <td>1.754000</td>\n",
       "      <td>37.533333</td>\n",
       "    </tr>\n",
       "    <tr>\n",
       "      <th>4</th>\n",
       "      <td>1.65</td>\n",
       "      <td>32</td>\n",
       "      <td>0.0</td>\n",
       "      <td>1.667333</td>\n",
       "      <td>29.066667</td>\n",
       "    </tr>\n",
       "  </tbody>\n",
       "</table>\n",
       "</div>"
      ],
      "text/plain": [
       "   altura  edad  cluster  cluster_altura  cluster_edad\n",
       "0    1.77    26      1.0        1.773889     24.611111\n",
       "1    1.74    31      2.0        1.754000     37.533333\n",
       "2    1.72    24      1.0        1.773889     24.611111\n",
       "3    1.78    34      2.0        1.754000     37.533333\n",
       "4    1.65    32      0.0        1.667333     29.066667"
      ]
     },
     "execution_count": 25,
     "metadata": {},
     "output_type": "execute_result"
    }
   ],
   "source": [
    "normales_kmeans2 = normales.copy()\n",
    "normales_kmeans2[\"cluster\"] = cluster2\n",
    "normales_kmeans2[\"cluster_altura\"] = np.array(kparams2.iloc[cluster2,:].altura)\n",
    "normales_kmeans2[\"cluster_edad\"] = np.array(kparams2.iloc[cluster2,:].edad)\n",
    "normales_kmeans2.head()"
   ]
  },
  {
   "cell_type": "markdown",
   "id": "92b5856c",
   "metadata": {},
   "source": [
    "Gráfica de puntos"
   ]
  },
  {
   "cell_type": "code",
   "execution_count": 26,
   "id": "7a5ebcec",
   "metadata": {},
   "outputs": [
    {
     "data": {
      "text/plain": [
       "<matplotlib.collections.PathCollection at 0x1a3d1dd5fa0>"
      ]
     },
     "execution_count": 26,
     "metadata": {},
     "output_type": "execute_result"
    },
    {
     "data": {
      "image/png": "[encoded data removed]",
      "text/plain": [
       "<Figure size 432x288 with 1 Axes>"
      ]
     },
     "metadata": {
      "needs_background": "light"
     },
     "output_type": "display_data"
    }
   ],
   "source": [
    "plt.scatter(normales_kmeans2.altura, normales_kmeans2.edad, alpha=1, c=normales_kmeans2.cluster)"
   ]
  },
  {
   "cell_type": "markdown",
   "id": "199f024e",
   "metadata": {},
   "source": [
    "## 3.3. Algoritmo K-Means - Experimento 3, k = 5"
   ]
  },
  {
   "cell_type": "markdown",
   "id": "665d6434",
   "metadata": {},
   "source": [
    "Ejecutando algoritmo K-means recursivo:"
   ]
  },
  {
   "cell_type": "code",
   "execution_count": 27,
   "id": "ee7ad4de",
   "metadata": {},
   "outputs": [],
   "source": [
    "(cluster3, kparams3, ciclos3) = k_means_algoritmo(5, normales_n)"
   ]
  },
  {
   "cell_type": "code",
   "execution_count": 28,
   "id": "4e0b3f4d",
   "metadata": {},
   "outputs": [
    {
     "name": "stdout",
     "output_type": "stream",
     "text": [
      "El algoritmo se ejecutó 8 veces después de 2 iteraciones en el mismo lugar.\n"
     ]
    }
   ],
   "source": [
    "print(\"El algoritmo se ejecutó\",ciclos3,\"veces después de 2 iteraciones en el mismo lugar.\")"
   ]
  },
  {
   "cell_type": "markdown",
   "id": "b8f8e7bc",
   "metadata": {},
   "source": [
    "Clusters encontrados:"
   ]
  },
  {
   "cell_type": "code",
   "execution_count": 29,
   "id": "e26f90d0",
   "metadata": {},
   "outputs": [
    {
     "name": "stdout",
     "output_type": "stream",
     "text": [
      "     altura       edad\n",
      "0  1.833750  25.875000\n",
      "1  1.826667  47.333333\n",
      "2  1.730000  25.142857\n",
      "3  1.720000  35.000000\n",
      "4  1.636154  28.076923\n"
     ]
    }
   ],
   "source": [
    "kparams3.altura = (kparams3.altura * altura_std) + altura_mean\n",
    "kparams3.edad = (kparams3.edad * edad_std) + edad_mean\n",
    "print(kparams3.reset_index(drop=True))"
   ]
  },
  {
   "cell_type": "markdown",
   "id": "e2f6b4f0",
   "metadata": {},
   "source": [
    "Tabla de edades y cluster asignado:"
   ]
  },
  {
   "cell_type": "code",
   "execution_count": 30,
   "id": "5c3e7650",
   "metadata": {},
   "outputs": [
    {
     "data": {
      "text/html": [
       "<div>\n",
       "<style scoped>\n",
       "    .dataframe tbody tr th:only-of-type {\n",
       "        vertical-align: middle;\n",
       "    }\n",
       "\n",
       "    .dataframe tbody tr th {\n",
       "        vertical-align: top;\n",
       "    }\n",
       "\n",
       "    .dataframe thead th {\n",
       "        text-align: right;\n",
       "    }\n",
       "</style>\n",
       "<table border=\"1\" class=\"dataframe\">\n",
       "  <thead>\n",
       "    <tr style=\"text-align: right;\">\n",
       "      <th></th>\n",
       "      <th>altura</th>\n",
       "      <th>edad</th>\n",
       "      <th>cluster</th>\n",
       "      <th>cluster_altura</th>\n",
       "      <th>cluster_edad</th>\n",
       "    </tr>\n",
       "  </thead>\n",
       "  <tbody>\n",
       "    <tr>\n",
       "      <th>0</th>\n",
       "      <td>1.77</td>\n",
       "      <td>26</td>\n",
       "      <td>2.0</td>\n",
       "      <td>1.730000</td>\n",
       "      <td>25.142857</td>\n",
       "    </tr>\n",
       "    <tr>\n",
       "      <th>1</th>\n",
       "      <td>1.74</td>\n",
       "      <td>31</td>\n",
       "      <td>3.0</td>\n",
       "      <td>1.720000</td>\n",
       "      <td>35.000000</td>\n",
       "    </tr>\n",
       "    <tr>\n",
       "      <th>2</th>\n",
       "      <td>1.72</td>\n",
       "      <td>24</td>\n",
       "      <td>2.0</td>\n",
       "      <td>1.730000</td>\n",
       "      <td>25.142857</td>\n",
       "    </tr>\n",
       "    <tr>\n",
       "      <th>3</th>\n",
       "      <td>1.78</td>\n",
       "      <td>34</td>\n",
       "      <td>3.0</td>\n",
       "      <td>1.720000</td>\n",
       "      <td>35.000000</td>\n",
       "    </tr>\n",
       "    <tr>\n",
       "      <th>4</th>\n",
       "      <td>1.65</td>\n",
       "      <td>32</td>\n",
       "      <td>4.0</td>\n",
       "      <td>1.636154</td>\n",
       "      <td>28.076923</td>\n",
       "    </tr>\n",
       "  </tbody>\n",
       "</table>\n",
       "</div>"
      ],
      "text/plain": [
       "   altura  edad  cluster  cluster_altura  cluster_edad\n",
       "0    1.77    26      2.0        1.730000     25.142857\n",
       "1    1.74    31      3.0        1.720000     35.000000\n",
       "2    1.72    24      2.0        1.730000     25.142857\n",
       "3    1.78    34      3.0        1.720000     35.000000\n",
       "4    1.65    32      4.0        1.636154     28.076923"
      ]
     },
     "execution_count": 30,
     "metadata": {},
     "output_type": "execute_result"
    }
   ],
   "source": [
    "normales_kmeans3 = normales.copy()\n",
    "normales_kmeans3[\"cluster\"] = cluster3\n",
    "normales_kmeans3[\"cluster_altura\"] = np.array(kparams3.iloc[cluster3,:].altura)\n",
    "normales_kmeans3[\"cluster_edad\"] = np.array(kparams3.iloc[cluster3,:].edad)\n",
    "normales_kmeans3.head()"
   ]
  },
  {
   "cell_type": "markdown",
   "id": "c3bbedce",
   "metadata": {},
   "source": [
    "Gráfica de puntos"
   ]
  },
  {
   "cell_type": "code",
   "execution_count": 31,
   "id": "e26b6e9d",
   "metadata": {},
   "outputs": [
    {
     "data": {
      "text/plain": [
       "<matplotlib.collections.PathCollection at 0x1a3d1e49c10>"
      ]
     },
     "execution_count": 31,
     "metadata": {},
     "output_type": "execute_result"
    },
    {
     "data": {
      "image/png": "[encoded data removed]",
      "text/plain": [
       "<Figure size 432x288 with 1 Axes>"
      ]
     },
     "metadata": {
      "needs_background": "light"
     },
     "output_type": "display_data"
    }
   ],
   "source": [
    "plt.scatter(normales_kmeans3.altura, normales_kmeans3.edad, alpha=1, c=normales_kmeans3.cluster)"
   ]
  },
  {
   "cell_type": "markdown",
   "id": "c2bc927c",
   "metadata": {},
   "source": [
    "## 3.4. Algoritmo K-Means - Experimento 4, k = 6"
   ]
  },
  {
   "cell_type": "markdown",
   "id": "52abeed7",
   "metadata": {},
   "source": [
    "Ejecutando algoritmo K-means recursivo:"
   ]
  },
  {
   "cell_type": "code",
   "execution_count": 32,
   "id": "dcee9f6f",
   "metadata": {},
   "outputs": [],
   "source": [
    "(cluster4, kparams4, ciclos4) = k_means_algoritmo(6, normales_n)"
   ]
  },
  {
   "cell_type": "code",
   "execution_count": 33,
   "id": "077c5393",
   "metadata": {},
   "outputs": [
    {
     "name": "stdout",
     "output_type": "stream",
     "text": [
      "El algoritmo se ejecutó 8 veces después de 2 iteraciones en el mismo lugar.\n"
     ]
    }
   ],
   "source": [
    "print(\"El algoritmo se ejecutó\",ciclos4,\"veces después de 2 iteraciones en el mismo lugar.\")"
   ]
  },
  {
   "cell_type": "markdown",
   "id": "70c6f326",
   "metadata": {},
   "source": [
    "Clusters encontrados:"
   ]
  },
  {
   "cell_type": "code",
   "execution_count": 34,
   "id": "c6c370fd",
   "metadata": {},
   "outputs": [
    {
     "name": "stdout",
     "output_type": "stream",
     "text": [
      "     altura       edad\n",
      "0  1.753333  34.333333\n",
      "1  1.636154  28.076923\n",
      "2  1.840000  51.000000\n",
      "3  1.656667  39.000000\n",
      "4  1.831429  24.714286\n",
      "5  1.730000  25.142857\n"
     ]
    }
   ],
   "source": [
    "kparams4.altura = (kparams4.altura * altura_std) + altura_mean\n",
    "kparams4.edad = (kparams4.edad * edad_std) + edad_mean\n",
    "print(kparams4.reset_index(drop=True))"
   ]
  },
  {
   "cell_type": "markdown",
   "id": "c3f2437c",
   "metadata": {},
   "source": [
    "Tabla de edades y cluster asignado:"
   ]
  },
  {
   "cell_type": "code",
   "execution_count": 35,
   "id": "ec5cfe37",
   "metadata": {},
   "outputs": [
    {
     "data": {
      "text/html": [
       "<div>\n",
       "<style scoped>\n",
       "    .dataframe tbody tr th:only-of-type {\n",
       "        vertical-align: middle;\n",
       "    }\n",
       "\n",
       "    .dataframe tbody tr th {\n",
       "        vertical-align: top;\n",
       "    }\n",
       "\n",
       "    .dataframe thead th {\n",
       "        text-align: right;\n",
       "    }\n",
       "</style>\n",
       "<table border=\"1\" class=\"dataframe\">\n",
       "  <thead>\n",
       "    <tr style=\"text-align: right;\">\n",
       "      <th></th>\n",
       "      <th>altura</th>\n",
       "      <th>edad</th>\n",
       "      <th>cluster</th>\n",
       "      <th>cluster_altura</th>\n",
       "      <th>cluster_edad</th>\n",
       "    </tr>\n",
       "  </thead>\n",
       "  <tbody>\n",
       "    <tr>\n",
       "      <th>0</th>\n",
       "      <td>1.77</td>\n",
       "      <td>26</td>\n",
       "      <td>5.0</td>\n",
       "      <td>1.730000</td>\n",
       "      <td>25.142857</td>\n",
       "    </tr>\n",
       "    <tr>\n",
       "      <th>1</th>\n",
       "      <td>1.74</td>\n",
       "      <td>31</td>\n",
       "      <td>0.0</td>\n",
       "      <td>1.753333</td>\n",
       "      <td>34.333333</td>\n",
       "    </tr>\n",
       "    <tr>\n",
       "      <th>2</th>\n",
       "      <td>1.72</td>\n",
       "      <td>24</td>\n",
       "      <td>5.0</td>\n",
       "      <td>1.730000</td>\n",
       "      <td>25.142857</td>\n",
       "    </tr>\n",
       "    <tr>\n",
       "      <th>3</th>\n",
       "      <td>1.78</td>\n",
       "      <td>34</td>\n",
       "      <td>0.0</td>\n",
       "      <td>1.753333</td>\n",
       "      <td>34.333333</td>\n",
       "    </tr>\n",
       "    <tr>\n",
       "      <th>4</th>\n",
       "      <td>1.65</td>\n",
       "      <td>32</td>\n",
       "      <td>1.0</td>\n",
       "      <td>1.636154</td>\n",
       "      <td>28.076923</td>\n",
       "    </tr>\n",
       "  </tbody>\n",
       "</table>\n",
       "</div>"
      ],
      "text/plain": [
       "   altura  edad  cluster  cluster_altura  cluster_edad\n",
       "0    1.77    26      5.0        1.730000     25.142857\n",
       "1    1.74    31      0.0        1.753333     34.333333\n",
       "2    1.72    24      5.0        1.730000     25.142857\n",
       "3    1.78    34      0.0        1.753333     34.333333\n",
       "4    1.65    32      1.0        1.636154     28.076923"
      ]
     },
     "execution_count": 35,
     "metadata": {},
     "output_type": "execute_result"
    }
   ],
   "source": [
    "normales_kmeans4 = normales.copy()\n",
    "normales_kmeans4[\"cluster\"] = cluster4\n",
    "normales_kmeans4[\"cluster_altura\"] = np.array(kparams4.iloc[cluster4,:].altura)\n",
    "normales_kmeans4[\"cluster_edad\"] = np.array(kparams4.iloc[cluster4,:].edad)\n",
    "normales_kmeans4.head()"
   ]
  },
  {
   "cell_type": "markdown",
   "id": "5e784673",
   "metadata": {},
   "source": [
    "Gráfica de puntos"
   ]
  },
  {
   "cell_type": "code",
   "execution_count": 36,
   "id": "b0bfa9f6",
   "metadata": {},
   "outputs": [
    {
     "data": {
      "text/plain": [
       "<matplotlib.collections.PathCollection at 0x1a3d1ebb7c0>"
      ]
     },
     "execution_count": 36,
     "metadata": {},
     "output_type": "execute_result"
    },
    {
     "data": {
      "image/png": "[encoded data removed]",
      "text/plain": [
       "<Figure size 432x288 with 1 Axes>"
      ]
     },
     "metadata": {
      "needs_background": "light"
     },
     "output_type": "display_data"
    }
   ],
   "source": [
    "plt.scatter(normales_kmeans4.altura, normales_kmeans4.edad, alpha=1, c=normales_kmeans4.cluster)"
   ]
  },
  {
   "cell_type": "markdown",
   "id": "1663aff0",
   "metadata": {},
   "source": [
    "## 3.5. Algoritmo K-Means - Experimento 5, k = 2"
   ]
  },
  {
   "cell_type": "markdown",
   "id": "4f4212c9",
   "metadata": {},
   "source": [
    "Ejecutando algoritmo K-means recursivo:"
   ]
  },
  {
   "cell_type": "code",
   "execution_count": 37,
   "id": "f44d4c15",
   "metadata": {},
   "outputs": [],
   "source": [
    "(cluster5, kparams5, ciclos5) = k_means_algoritmo(2, normales_n)"
   ]
  },
  {
   "cell_type": "code",
   "execution_count": 38,
   "id": "0a959f49",
   "metadata": {},
   "outputs": [
    {
     "name": "stdout",
     "output_type": "stream",
     "text": [
      "El algoritmo se ejecutó 3 veces después de 2 iteraciones en el mismo lugar.\n"
     ]
    }
   ],
   "source": [
    "print(\"El algoritmo se ejecutó\",ciclos5,\"veces después de 2 iteraciones en el mismo lugar.\")"
   ]
  },
  {
   "cell_type": "markdown",
   "id": "d313e5d3",
   "metadata": {},
   "source": [
    "Clusters encontrados:"
   ]
  },
  {
   "cell_type": "code",
   "execution_count": 39,
   "id": "3610f16a",
   "metadata": {},
   "outputs": [
    {
     "name": "stdout",
     "output_type": "stream",
     "text": [
      "     altura       edad\n",
      "0  1.770625  29.750000\n",
      "1  1.649474  29.947368\n"
     ]
    }
   ],
   "source": [
    "kparams5.altura = (kparams5.altura * altura_std) + altura_mean\n",
    "kparams5.edad = (kparams5.edad * edad_std) + edad_mean\n",
    "print(kparams5.reset_index(drop=True))"
   ]
  },
  {
   "cell_type": "markdown",
   "id": "5704054b",
   "metadata": {},
   "source": [
    "Tabla de edades y cluster asignado:"
   ]
  },
  {
   "cell_type": "code",
   "execution_count": 41,
   "id": "20f5b5bb",
   "metadata": {},
   "outputs": [
    {
     "data": {
      "text/html": [
       "<div>\n",
       "<style scoped>\n",
       "    .dataframe tbody tr th:only-of-type {\n",
       "        vertical-align: middle;\n",
       "    }\n",
       "\n",
       "    .dataframe tbody tr th {\n",
       "        vertical-align: top;\n",
       "    }\n",
       "\n",
       "    .dataframe thead th {\n",
       "        text-align: right;\n",
       "    }\n",
       "</style>\n",
       "<table border=\"1\" class=\"dataframe\">\n",
       "  <thead>\n",
       "    <tr style=\"text-align: right;\">\n",
       "      <th></th>\n",
       "      <th>altura</th>\n",
       "      <th>edad</th>\n",
       "      <th>cluster</th>\n",
       "      <th>cluster_altura</th>\n",
       "      <th>cluster_edad</th>\n",
       "    </tr>\n",
       "  </thead>\n",
       "  <tbody>\n",
       "    <tr>\n",
       "      <th>0</th>\n",
       "      <td>1.77</td>\n",
       "      <td>26</td>\n",
       "      <td>0.0</td>\n",
       "      <td>1.770625</td>\n",
       "      <td>29.750000</td>\n",
       "    </tr>\n",
       "    <tr>\n",
       "      <th>1</th>\n",
       "      <td>1.74</td>\n",
       "      <td>31</td>\n",
       "      <td>0.0</td>\n",
       "      <td>1.770625</td>\n",
       "      <td>29.750000</td>\n",
       "    </tr>\n",
       "    <tr>\n",
       "      <th>2</th>\n",
       "      <td>1.72</td>\n",
       "      <td>24</td>\n",
       "      <td>0.0</td>\n",
       "      <td>1.770625</td>\n",
       "      <td>29.750000</td>\n",
       "    </tr>\n",
       "    <tr>\n",
       "      <th>3</th>\n",
       "      <td>1.78</td>\n",
       "      <td>34</td>\n",
       "      <td>0.0</td>\n",
       "      <td>1.770625</td>\n",
       "      <td>29.750000</td>\n",
       "    </tr>\n",
       "    <tr>\n",
       "      <th>4</th>\n",
       "      <td>1.65</td>\n",
       "      <td>32</td>\n",
       "      <td>1.0</td>\n",
       "      <td>1.649474</td>\n",
       "      <td>29.947368</td>\n",
       "    </tr>\n",
       "  </tbody>\n",
       "</table>\n",
       "</div>"
      ],
      "text/plain": [
       "   altura  edad  cluster  cluster_altura  cluster_edad\n",
       "0    1.77    26      0.0        1.770625     29.750000\n",
       "1    1.74    31      0.0        1.770625     29.750000\n",
       "2    1.72    24      0.0        1.770625     29.750000\n",
       "3    1.78    34      0.0        1.770625     29.750000\n",
       "4    1.65    32      1.0        1.649474     29.947368"
      ]
     },
     "execution_count": 41,
     "metadata": {},
     "output_type": "execute_result"
    }
   ],
   "source": [
    "normales_kmeans5 = normales.copy()\n",
    "normales_kmeans5[\"cluster\"] = cluster5\n",
    "normales_kmeans5[\"cluster_altura\"] = np.array(kparams5.iloc[cluster5,:].altura)\n",
    "normales_kmeans5[\"cluster_edad\"] = np.array(kparams5.iloc[cluster5,:].edad)\n",
    "normales_kmeans5.head()"
   ]
  },
  {
   "cell_type": "markdown",
   "id": "e823231f",
   "metadata": {},
   "source": [
    "Gráfica de puntos"
   ]
  },
  {
   "cell_type": "code",
   "execution_count": 42,
   "id": "725b17d6",
   "metadata": {},
   "outputs": [
    {
     "data": {
      "text/plain": [
       "<matplotlib.collections.PathCollection at 0x1a3d1f2f730>"
      ]
     },
     "execution_count": 42,
     "metadata": {},
     "output_type": "execute_result"
    },
    {
     "data": {
      "image/png": "[encoded data removed]",
      "text/plain": [
       "<Figure size 432x288 with 1 Axes>"
      ]
     },
     "metadata": {
      "needs_background": "light"
     },
     "output_type": "display_data"
    }
   ],
   "source": [
    "plt.scatter(normales_kmeans5.altura, normales_kmeans5.edad, alpha=1, c=normales_kmeans5.cluster)"
   ]
  },
  {
   "cell_type": "markdown",
   "id": "8edddc86",
   "metadata": {},
   "source": [
    "# 4. Algoritmo GMM"
   ]
  },
  {
   "cell_type": "markdown",
   "id": "0c9cb1c7",
   "metadata": {},
   "source": [
    "Importando librería"
   ]
  },
  {
   "cell_type": "code",
   "execution_count": 46,
   "id": "068955b4",
   "metadata": {},
   "outputs": [],
   "source": [
    "from sklearn import mixture"
   ]
  },
  {
   "cell_type": "markdown",
   "id": "0aef2074",
   "metadata": {},
   "source": [
    "## 4.1. Algoritmo GMM - Experimento 1, k = 3"
   ]
  },
  {
   "cell_type": "markdown",
   "id": "ff9882df",
   "metadata": {},
   "source": [
    "Ejecutando algoritmo GMM:"
   ]
  },
  {
   "cell_type": "code",
   "execution_count": 54,
   "id": "77fe5d3a",
   "metadata": {},
   "outputs": [],
   "source": [
    "model1 = mixture.GaussianMixture(n_components=3).fit(normales_n)\n",
    "labels = model1.predict(normales_n)\n",
    "probs = model1.predict_proba(normales_n)"
   ]
  },
  {
   "cell_type": "markdown",
   "id": "919416b5",
   "metadata": {},
   "source": [
    "Tabla de edades, cluster asignado y sus probabilidades:"
   ]
  },
  {
   "cell_type": "code",
   "execution_count": 63,
   "id": "b2b1105c",
   "metadata": {},
   "outputs": [
    {
     "data": {
      "text/html": [
       "<div>\n",
       "<style scoped>\n",
       "    .dataframe tbody tr th:only-of-type {\n",
       "        vertical-align: middle;\n",
       "    }\n",
       "\n",
       "    .dataframe tbody tr th {\n",
       "        vertical-align: top;\n",
       "    }\n",
       "\n",
       "    .dataframe thead th {\n",
       "        text-align: right;\n",
       "    }\n",
       "</style>\n",
       "<table border=\"1\" class=\"dataframe\">\n",
       "  <thead>\n",
       "    <tr style=\"text-align: right;\">\n",
       "      <th></th>\n",
       "      <th>altura</th>\n",
       "      <th>edad</th>\n",
       "      <th>cluster</th>\n",
       "      <th>p(c0)</th>\n",
       "      <th>p(c1)</th>\n",
       "      <th>p(c2)</th>\n",
       "    </tr>\n",
       "  </thead>\n",
       "  <tbody>\n",
       "    <tr>\n",
       "      <th>0</th>\n",
       "      <td>1.77</td>\n",
       "      <td>26</td>\n",
       "      <td>0</td>\n",
       "      <td>1.00</td>\n",
       "      <td>0.00</td>\n",
       "      <td>0.0</td>\n",
       "    </tr>\n",
       "    <tr>\n",
       "      <th>1</th>\n",
       "      <td>1.74</td>\n",
       "      <td>31</td>\n",
       "      <td>1</td>\n",
       "      <td>0.01</td>\n",
       "      <td>0.99</td>\n",
       "      <td>0.0</td>\n",
       "    </tr>\n",
       "    <tr>\n",
       "      <th>2</th>\n",
       "      <td>1.72</td>\n",
       "      <td>24</td>\n",
       "      <td>0</td>\n",
       "      <td>1.00</td>\n",
       "      <td>0.00</td>\n",
       "      <td>0.0</td>\n",
       "    </tr>\n",
       "    <tr>\n",
       "      <th>3</th>\n",
       "      <td>1.78</td>\n",
       "      <td>34</td>\n",
       "      <td>1</td>\n",
       "      <td>0.00</td>\n",
       "      <td>1.00</td>\n",
       "      <td>0.0</td>\n",
       "    </tr>\n",
       "    <tr>\n",
       "      <th>4</th>\n",
       "      <td>1.65</td>\n",
       "      <td>32</td>\n",
       "      <td>1</td>\n",
       "      <td>0.00</td>\n",
       "      <td>1.00</td>\n",
       "      <td>0.0</td>\n",
       "    </tr>\n",
       "  </tbody>\n",
       "</table>\n",
       "</div>"
      ],
      "text/plain": [
       "   altura  edad  cluster  p(c0)  p(c1)  p(c2)\n",
       "0    1.77    26        0   1.00   0.00    0.0\n",
       "1    1.74    31        1   0.01   0.99    0.0\n",
       "2    1.72    24        0   1.00   0.00    0.0\n",
       "3    1.78    34        1   0.00   1.00    0.0\n",
       "4    1.65    32        1   0.00   1.00    0.0"
      ]
     },
     "execution_count": 63,
     "metadata": {},
     "output_type": "execute_result"
    }
   ],
   "source": [
    "normales_gmm1 = normales.copy()\n",
    "normales_gmm1[\"cluster\"] = labels\n",
    "normales_gmm1[\"p(c0)\"] = probs[:,0].round(2)\n",
    "normales_gmm1[\"p(c1)\"] = probs[:,1].round(2)\n",
    "normales_gmm1[\"p(c2)\"] = probs[:,2].round(2)\n",
    "normales_gmm1.head()"
   ]
  },
  {
   "cell_type": "markdown",
   "id": "8680ce3f",
   "metadata": {},
   "source": [
    "Gráfica de puntos"
   ]
  },
  {
   "cell_type": "code",
   "execution_count": 56,
   "id": "0f2c22fc",
   "metadata": {},
   "outputs": [
    {
     "data": {
      "text/plain": [
       "<matplotlib.collections.PathCollection at 0x1a3d8159d90>"
      ]
     },
     "execution_count": 56,
     "metadata": {},
     "output_type": "execute_result"
    },
    {
     "data": {
      "image/png": "[encoded data removed]",
      "text/plain": [
       "<Figure size 432x288 with 1 Axes>"
      ]
     },
     "metadata": {
      "needs_background": "light"
     },
     "output_type": "display_data"
    }
   ],
   "source": [
    "plt.scatter(normales_gmm1.altura, normales_gmm1.edad, alpha=1, c=normales_gmm1.cluster)"
   ]
  },
  {
   "cell_type": "markdown",
   "id": "7f1292d5",
   "metadata": {},
   "source": [
    "## 4.2. Algoritmo GMM - Experimento 2, k = 4"
   ]
  },
  {
   "cell_type": "markdown",
   "id": "a91e1e5e",
   "metadata": {},
   "source": [
    "Ejecutando algoritmo GMM:"
   ]
  },
  {
   "cell_type": "code",
   "execution_count": 64,
   "id": "d14c1e29",
   "metadata": {},
   "outputs": [],
   "source": [
    "model2 = mixture.GaussianMixture(n_components=4).fit(normales_n)\n",
    "labels = model2.predict(normales_n)\n",
    "probs = model2.predict_proba(normales_n)"
   ]
  },
  {
   "cell_type": "markdown",
   "id": "25b07228",
   "metadata": {},
   "source": [
    "Tabla de edades, cluster asignado y sus probabilidades:"
   ]
  },
  {
   "cell_type": "code",
   "execution_count": 66,
   "id": "a23a3d81",
   "metadata": {},
   "outputs": [
    {
     "data": {
      "text/html": [
       "<div>\n",
       "<style scoped>\n",
       "    .dataframe tbody tr th:only-of-type {\n",
       "        vertical-align: middle;\n",
       "    }\n",
       "\n",
       "    .dataframe tbody tr th {\n",
       "        vertical-align: top;\n",
       "    }\n",
       "\n",
       "    .dataframe thead th {\n",
       "        text-align: right;\n",
       "    }\n",
       "</style>\n",
       "<table border=\"1\" class=\"dataframe\">\n",
       "  <thead>\n",
       "    <tr style=\"text-align: right;\">\n",
       "      <th></th>\n",
       "      <th>altura</th>\n",
       "      <th>edad</th>\n",
       "      <th>cluster</th>\n",
       "      <th>p(c0)</th>\n",
       "      <th>p(c1)</th>\n",
       "      <th>p(c2)</th>\n",
       "      <th>p(c3)</th>\n",
       "    </tr>\n",
       "  </thead>\n",
       "  <tbody>\n",
       "    <tr>\n",
       "      <th>0</th>\n",
       "      <td>1.77</td>\n",
       "      <td>26</td>\n",
       "      <td>2</td>\n",
       "      <td>0.39</td>\n",
       "      <td>0.03</td>\n",
       "      <td>0.57</td>\n",
       "      <td>0.0</td>\n",
       "    </tr>\n",
       "    <tr>\n",
       "      <th>1</th>\n",
       "      <td>1.74</td>\n",
       "      <td>31</td>\n",
       "      <td>1</td>\n",
       "      <td>0.11</td>\n",
       "      <td>0.89</td>\n",
       "      <td>0.00</td>\n",
       "      <td>0.0</td>\n",
       "    </tr>\n",
       "    <tr>\n",
       "      <th>2</th>\n",
       "      <td>1.72</td>\n",
       "      <td>24</td>\n",
       "      <td>0</td>\n",
       "      <td>0.99</td>\n",
       "      <td>0.01</td>\n",
       "      <td>0.01</td>\n",
       "      <td>0.0</td>\n",
       "    </tr>\n",
       "    <tr>\n",
       "      <th>3</th>\n",
       "      <td>1.78</td>\n",
       "      <td>34</td>\n",
       "      <td>1</td>\n",
       "      <td>0.00</td>\n",
       "      <td>1.00</td>\n",
       "      <td>0.00</td>\n",
       "      <td>0.0</td>\n",
       "    </tr>\n",
       "    <tr>\n",
       "      <th>4</th>\n",
       "      <td>1.65</td>\n",
       "      <td>32</td>\n",
       "      <td>0</td>\n",
       "      <td>0.55</td>\n",
       "      <td>0.45</td>\n",
       "      <td>0.00</td>\n",
       "      <td>0.0</td>\n",
       "    </tr>\n",
       "  </tbody>\n",
       "</table>\n",
       "</div>"
      ],
      "text/plain": [
       "   altura  edad  cluster  p(c0)  p(c1)  p(c2)  p(c3)\n",
       "0    1.77    26        2   0.39   0.03   0.57    0.0\n",
       "1    1.74    31        1   0.11   0.89   0.00    0.0\n",
       "2    1.72    24        0   0.99   0.01   0.01    0.0\n",
       "3    1.78    34        1   0.00   1.00   0.00    0.0\n",
       "4    1.65    32        0   0.55   0.45   0.00    0.0"
      ]
     },
     "execution_count": 66,
     "metadata": {},
     "output_type": "execute_result"
    }
   ],
   "source": [
    "normales_gmm2 = normales.copy()\n",
    "normales_gmm2[\"cluster\"] = labels\n",
    "normales_gmm2[\"p(c0)\"] = probs[:,0].round(2)\n",
    "normales_gmm2[\"p(c1)\"] = probs[:,1].round(2)\n",
    "normales_gmm2[\"p(c2)\"] = probs[:,2].round(2)\n",
    "normales_gmm2[\"p(c3)\"] = probs[:,3].round(2)\n",
    "normales_gmm2.head()"
   ]
  },
  {
   "cell_type": "markdown",
   "id": "08f0a5f9",
   "metadata": {},
   "source": [
    "Gráfica de puntos"
   ]
  },
  {
   "cell_type": "code",
   "execution_count": 67,
   "id": "1f8259b8",
   "metadata": {},
   "outputs": [
    {
     "data": {
      "text/plain": [
       "<matplotlib.collections.PathCollection at 0x1a3d81986d0>"
      ]
     },
     "execution_count": 67,
     "metadata": {},
     "output_type": "execute_result"
    },
    {
     "data": {
      "image/png": "[encoded data removed]",
      "text/plain": [
       "<Figure size 432x288 with 1 Axes>"
      ]
     },
     "metadata": {
      "needs_background": "light"
     },
     "output_type": "display_data"
    }
   ],
   "source": [
    "plt.scatter(normales_gmm2.altura, normales_gmm2.edad, alpha=1, c=normales_gmm2.cluster)"
   ]
  },
  {
   "cell_type": "markdown",
   "id": "34fd713e",
   "metadata": {},
   "source": [
    "## 4.3. Algoritmo GMM - Experimento 3, k = 5"
   ]
  },
  {
   "cell_type": "markdown",
   "id": "4041a9f2",
   "metadata": {},
   "source": [
    "Ejecutando algoritmo GMM:"
   ]
  },
  {
   "cell_type": "code",
   "execution_count": 68,
   "id": "74c2f713",
   "metadata": {},
   "outputs": [],
   "source": [
    "model3 = mixture.GaussianMixture(n_components=5).fit(normales_n)\n",
    "labels = model3.predict(normales_n)\n",
    "probs = model3.predict_proba(normales_n)"
   ]
  },
  {
   "cell_type": "markdown",
   "id": "b3cf242a",
   "metadata": {},
   "source": [
    "Tabla de edades, cluster asignado y sus probabilidades:"
   ]
  },
  {
   "cell_type": "code",
   "execution_count": 69,
   "id": "d0ccb6ad",
   "metadata": {},
   "outputs": [
    {
     "data": {
      "text/html": [
       "<div>\n",
       "<style scoped>\n",
       "    .dataframe tbody tr th:only-of-type {\n",
       "        vertical-align: middle;\n",
       "    }\n",
       "\n",
       "    .dataframe tbody tr th {\n",
       "        vertical-align: top;\n",
       "    }\n",
       "\n",
       "    .dataframe thead th {\n",
       "        text-align: right;\n",
       "    }\n",
       "</style>\n",
       "<table border=\"1\" class=\"dataframe\">\n",
       "  <thead>\n",
       "    <tr style=\"text-align: right;\">\n",
       "      <th></th>\n",
       "      <th>altura</th>\n",
       "      <th>edad</th>\n",
       "      <th>cluster</th>\n",
       "      <th>p(c0)</th>\n",
       "      <th>p(c1)</th>\n",
       "      <th>p(c2)</th>\n",
       "      <th>p(c3)</th>\n",
       "      <th>p(c4)</th>\n",
       "    </tr>\n",
       "  </thead>\n",
       "  <tbody>\n",
       "    <tr>\n",
       "      <th>0</th>\n",
       "      <td>1.77</td>\n",
       "      <td>26</td>\n",
       "      <td>3</td>\n",
       "      <td>0.00</td>\n",
       "      <td>0.02</td>\n",
       "      <td>0.0</td>\n",
       "      <td>0.94</td>\n",
       "      <td>0.04</td>\n",
       "    </tr>\n",
       "    <tr>\n",
       "      <th>1</th>\n",
       "      <td>1.74</td>\n",
       "      <td>31</td>\n",
       "      <td>4</td>\n",
       "      <td>0.00</td>\n",
       "      <td>0.15</td>\n",
       "      <td>0.0</td>\n",
       "      <td>0.00</td>\n",
       "      <td>0.85</td>\n",
       "    </tr>\n",
       "    <tr>\n",
       "      <th>2</th>\n",
       "      <td>1.72</td>\n",
       "      <td>24</td>\n",
       "      <td>0</td>\n",
       "      <td>0.97</td>\n",
       "      <td>0.02</td>\n",
       "      <td>0.0</td>\n",
       "      <td>0.00</td>\n",
       "      <td>0.00</td>\n",
       "    </tr>\n",
       "    <tr>\n",
       "      <th>3</th>\n",
       "      <td>1.78</td>\n",
       "      <td>34</td>\n",
       "      <td>4</td>\n",
       "      <td>0.00</td>\n",
       "      <td>0.00</td>\n",
       "      <td>0.0</td>\n",
       "      <td>0.00</td>\n",
       "      <td>1.00</td>\n",
       "    </tr>\n",
       "    <tr>\n",
       "      <th>4</th>\n",
       "      <td>1.65</td>\n",
       "      <td>32</td>\n",
       "      <td>1</td>\n",
       "      <td>0.00</td>\n",
       "      <td>0.65</td>\n",
       "      <td>0.0</td>\n",
       "      <td>0.00</td>\n",
       "      <td>0.35</td>\n",
       "    </tr>\n",
       "  </tbody>\n",
       "</table>\n",
       "</div>"
      ],
      "text/plain": [
       "   altura  edad  cluster  p(c0)  p(c1)  p(c2)  p(c3)  p(c4)\n",
       "0    1.77    26        3   0.00   0.02    0.0   0.94   0.04\n",
       "1    1.74    31        4   0.00   0.15    0.0   0.00   0.85\n",
       "2    1.72    24        0   0.97   0.02    0.0   0.00   0.00\n",
       "3    1.78    34        4   0.00   0.00    0.0   0.00   1.00\n",
       "4    1.65    32        1   0.00   0.65    0.0   0.00   0.35"
      ]
     },
     "execution_count": 69,
     "metadata": {},
     "output_type": "execute_result"
    }
   ],
   "source": [
    "normales_gmm3 = normales.copy()\n",
    "normales_gmm3[\"cluster\"] = labels\n",
    "normales_gmm3[\"p(c0)\"] = probs[:,0].round(2)\n",
    "normales_gmm3[\"p(c1)\"] = probs[:,1].round(2)\n",
    "normales_gmm3[\"p(c2)\"] = probs[:,2].round(2)\n",
    "normales_gmm3[\"p(c3)\"] = probs[:,3].round(2)\n",
    "normales_gmm3[\"p(c4)\"] = probs[:,4].round(2)\n",
    "normales_gmm3.head()"
   ]
  },
  {
   "cell_type": "markdown",
   "id": "76545755",
   "metadata": {},
   "source": [
    "Gráfica de puntos"
   ]
  },
  {
   "cell_type": "code",
   "execution_count": 70,
   "id": "a35f6ac0",
   "metadata": {},
   "outputs": [
    {
     "data": {
      "text/plain": [
       "<matplotlib.collections.PathCollection at 0x1a3d82573a0>"
      ]
     },
     "execution_count": 70,
     "metadata": {},
     "output_type": "execute_result"
    },
    {
     "data": {
      "image/png": "[encoded data removed]",
      "text/plain": [
       "<Figure size 432x288 with 1 Axes>"
      ]
     },
     "metadata": {
      "needs_background": "light"
     },
     "output_type": "display_data"
    }
   ],
   "source": [
    "plt.scatter(normales_gmm3.altura, normales_gmm3.edad, alpha=1, c=normales_gmm3.cluster)"
   ]
  },
  {
   "cell_type": "markdown",
   "id": "0575f282",
   "metadata": {},
   "source": [
    "## 4.4. Algoritmo GMM - Experimento 4, k = 6"
   ]
  },
  {
   "cell_type": "markdown",
   "id": "4ba72563",
   "metadata": {},
   "source": [
    "Ejecutando algoritmo GMM:"
   ]
  },
  {
   "cell_type": "code",
   "execution_count": 71,
   "id": "7f396a1a",
   "metadata": {},
   "outputs": [],
   "source": [
    "model4 = mixture.GaussianMixture(n_components=6).fit(normales_n)\n",
    "labels = model4.predict(normales_n)\n",
    "probs = model4.predict_proba(normales_n)"
   ]
  },
  {
   "cell_type": "markdown",
   "id": "7add6881",
   "metadata": {},
   "source": [
    "Tabla de edades, cluster asignado y sus probabilidades:"
   ]
  },
  {
   "cell_type": "code",
   "execution_count": 72,
   "id": "39ad3b52",
   "metadata": {},
   "outputs": [
    {
     "data": {
      "text/html": [
       "<div>\n",
       "<style scoped>\n",
       "    .dataframe tbody tr th:only-of-type {\n",
       "        vertical-align: middle;\n",
       "    }\n",
       "\n",
       "    .dataframe tbody tr th {\n",
       "        vertical-align: top;\n",
       "    }\n",
       "\n",
       "    .dataframe thead th {\n",
       "        text-align: right;\n",
       "    }\n",
       "</style>\n",
       "<table border=\"1\" class=\"dataframe\">\n",
       "  <thead>\n",
       "    <tr style=\"text-align: right;\">\n",
       "      <th></th>\n",
       "      <th>altura</th>\n",
       "      <th>edad</th>\n",
       "      <th>cluster</th>\n",
       "      <th>p(c0)</th>\n",
       "      <th>p(c1)</th>\n",
       "      <th>p(c2)</th>\n",
       "      <th>p(c3)</th>\n",
       "      <th>p(c4)</th>\n",
       "      <th>p(c5)</th>\n",
       "    </tr>\n",
       "  </thead>\n",
       "  <tbody>\n",
       "    <tr>\n",
       "      <th>0</th>\n",
       "      <td>1.77</td>\n",
       "      <td>26</td>\n",
       "      <td>0</td>\n",
       "      <td>0.86</td>\n",
       "      <td>0.01</td>\n",
       "      <td>0.0</td>\n",
       "      <td>0.00</td>\n",
       "      <td>0.13</td>\n",
       "      <td>0.00</td>\n",
       "    </tr>\n",
       "    <tr>\n",
       "      <th>1</th>\n",
       "      <td>1.74</td>\n",
       "      <td>31</td>\n",
       "      <td>4</td>\n",
       "      <td>0.00</td>\n",
       "      <td>0.05</td>\n",
       "      <td>0.0</td>\n",
       "      <td>0.05</td>\n",
       "      <td>0.90</td>\n",
       "      <td>0.00</td>\n",
       "    </tr>\n",
       "    <tr>\n",
       "      <th>2</th>\n",
       "      <td>1.72</td>\n",
       "      <td>24</td>\n",
       "      <td>5</td>\n",
       "      <td>0.00</td>\n",
       "      <td>0.01</td>\n",
       "      <td>0.0</td>\n",
       "      <td>0.00</td>\n",
       "      <td>0.00</td>\n",
       "      <td>0.99</td>\n",
       "    </tr>\n",
       "    <tr>\n",
       "      <th>3</th>\n",
       "      <td>1.78</td>\n",
       "      <td>34</td>\n",
       "      <td>3</td>\n",
       "      <td>0.00</td>\n",
       "      <td>0.00</td>\n",
       "      <td>0.0</td>\n",
       "      <td>0.97</td>\n",
       "      <td>0.03</td>\n",
       "      <td>0.00</td>\n",
       "    </tr>\n",
       "    <tr>\n",
       "      <th>4</th>\n",
       "      <td>1.65</td>\n",
       "      <td>32</td>\n",
       "      <td>1</td>\n",
       "      <td>0.00</td>\n",
       "      <td>1.00</td>\n",
       "      <td>0.0</td>\n",
       "      <td>0.00</td>\n",
       "      <td>0.00</td>\n",
       "      <td>0.00</td>\n",
       "    </tr>\n",
       "  </tbody>\n",
       "</table>\n",
       "</div>"
      ],
      "text/plain": [
       "   altura  edad  cluster  p(c0)  p(c1)  p(c2)  p(c3)  p(c4)  p(c5)\n",
       "0    1.77    26        0   0.86   0.01    0.0   0.00   0.13   0.00\n",
       "1    1.74    31        4   0.00   0.05    0.0   0.05   0.90   0.00\n",
       "2    1.72    24        5   0.00   0.01    0.0   0.00   0.00   0.99\n",
       "3    1.78    34        3   0.00   0.00    0.0   0.97   0.03   0.00\n",
       "4    1.65    32        1   0.00   1.00    0.0   0.00   0.00   0.00"
      ]
     },
     "execution_count": 72,
     "metadata": {},
     "output_type": "execute_result"
    }
   ],
   "source": [
    "normales_gmm4 = normales.copy()\n",
    "normales_gmm4[\"cluster\"] = labels\n",
    "normales_gmm4[\"p(c0)\"] = probs[:,0].round(2)\n",
    "normales_gmm4[\"p(c1)\"] = probs[:,1].round(2)\n",
    "normales_gmm4[\"p(c2)\"] = probs[:,2].round(2)\n",
    "normales_gmm4[\"p(c3)\"] = probs[:,3].round(2)\n",
    "normales_gmm4[\"p(c4)\"] = probs[:,4].round(2)\n",
    "normales_gmm4[\"p(c5)\"] = probs[:,5].round(2)\n",
    "normales_gmm4.head()"
   ]
  },
  {
   "cell_type": "markdown",
   "id": "f67cae75",
   "metadata": {},
   "source": [
    "Gráfica de puntos"
   ]
  },
  {
   "cell_type": "code",
   "execution_count": 73,
   "id": "85bf5fe8",
   "metadata": {},
   "outputs": [
    {
     "data": {
      "text/plain": [
       "<matplotlib.collections.PathCollection at 0x1a3d82c81c0>"
      ]
     },
     "execution_count": 73,
     "metadata": {},
     "output_type": "execute_result"
    },
    {
     "data": {
      "image/png": "[encoded data removed]",
      "text/plain": [
       "<Figure size 432x288 with 1 Axes>"
      ]
     },
     "metadata": {
      "needs_background": "light"
     },
     "output_type": "display_data"
    }
   ],
   "source": [
    "plt.scatter(normales_gmm4.altura, normales_gmm4.edad, alpha=1, c=normales_gmm4.cluster)"
   ]
  },
  {
   "cell_type": "markdown",
   "id": "93a8a409",
   "metadata": {},
   "source": [
    "## 4.5. Algoritmo GMM - Experimento 5, k = 2"
   ]
  },
  {
   "cell_type": "markdown",
   "id": "552752be",
   "metadata": {},
   "source": [
    "Ejecutando algoritmo GMM:"
   ]
  },
  {
   "cell_type": "code",
   "execution_count": 74,
   "id": "c0f9093c",
   "metadata": {},
   "outputs": [],
   "source": [
    "model5 = mixture.GaussianMixture(n_components=2).fit(normales_n)\n",
    "labels = model5.predict(normales_n)\n",
    "probs = model5.predict_proba(normales_n)"
   ]
  },
  {
   "cell_type": "markdown",
   "id": "823cdfc1",
   "metadata": {},
   "source": [
    "Tabla de edades, cluster asignado y sus probabilidades:"
   ]
  },
  {
   "cell_type": "code",
   "execution_count": 76,
   "id": "f72b4798",
   "metadata": {},
   "outputs": [
    {
     "data": {
      "text/html": [
       "<div>\n",
       "<style scoped>\n",
       "    .dataframe tbody tr th:only-of-type {\n",
       "        vertical-align: middle;\n",
       "    }\n",
       "\n",
       "    .dataframe tbody tr th {\n",
       "        vertical-align: top;\n",
       "    }\n",
       "\n",
       "    .dataframe thead th {\n",
       "        text-align: right;\n",
       "    }\n",
       "</style>\n",
       "<table border=\"1\" class=\"dataframe\">\n",
       "  <thead>\n",
       "    <tr style=\"text-align: right;\">\n",
       "      <th></th>\n",
       "      <th>altura</th>\n",
       "      <th>edad</th>\n",
       "      <th>cluster</th>\n",
       "      <th>p(c0)</th>\n",
       "      <th>p(c1)</th>\n",
       "    </tr>\n",
       "  </thead>\n",
       "  <tbody>\n",
       "    <tr>\n",
       "      <th>0</th>\n",
       "      <td>1.77</td>\n",
       "      <td>26</td>\n",
       "      <td>1</td>\n",
       "      <td>0.06</td>\n",
       "      <td>0.94</td>\n",
       "    </tr>\n",
       "    <tr>\n",
       "      <th>1</th>\n",
       "      <td>1.74</td>\n",
       "      <td>31</td>\n",
       "      <td>0</td>\n",
       "      <td>0.94</td>\n",
       "      <td>0.06</td>\n",
       "    </tr>\n",
       "    <tr>\n",
       "      <th>2</th>\n",
       "      <td>1.72</td>\n",
       "      <td>24</td>\n",
       "      <td>1</td>\n",
       "      <td>0.09</td>\n",
       "      <td>0.91</td>\n",
       "    </tr>\n",
       "    <tr>\n",
       "      <th>3</th>\n",
       "      <td>1.78</td>\n",
       "      <td>34</td>\n",
       "      <td>0</td>\n",
       "      <td>1.00</td>\n",
       "      <td>0.00</td>\n",
       "    </tr>\n",
       "    <tr>\n",
       "      <th>4</th>\n",
       "      <td>1.65</td>\n",
       "      <td>32</td>\n",
       "      <td>0</td>\n",
       "      <td>0.95</td>\n",
       "      <td>0.05</td>\n",
       "    </tr>\n",
       "  </tbody>\n",
       "</table>\n",
       "</div>"
      ],
      "text/plain": [
       "   altura  edad  cluster  p(c0)  p(c1)\n",
       "0    1.77    26        1   0.06   0.94\n",
       "1    1.74    31        0   0.94   0.06\n",
       "2    1.72    24        1   0.09   0.91\n",
       "3    1.78    34        0   1.00   0.00\n",
       "4    1.65    32        0   0.95   0.05"
      ]
     },
     "execution_count": 76,
     "metadata": {},
     "output_type": "execute_result"
    }
   ],
   "source": [
    "normales_gmm5 = normales.copy()\n",
    "normales_gmm5[\"cluster\"] = labels\n",
    "normales_gmm5[\"p(c0)\"] = probs[:,0].round(2)\n",
    "normales_gmm5[\"p(c1)\"] = probs[:,1].round(2)\n",
    "normales_gmm5.head()"
   ]
  },
  {
   "cell_type": "markdown",
   "id": "2268432d",
   "metadata": {},
   "source": [
    "Gráfica de puntos"
   ]
  },
  {
   "cell_type": "code",
   "execution_count": 77,
   "id": "9447c315",
   "metadata": {},
   "outputs": [
    {
     "data": {
      "text/plain": [
       "<matplotlib.collections.PathCollection at 0x1a3d8327f40>"
      ]
     },
     "execution_count": 77,
     "metadata": {},
     "output_type": "execute_result"
    },
    {
     "data": {
      "image/png": "[encoded data removed]",
      "text/plain": [
       "<Figure size 432x288 with 1 Axes>"
      ]
     },
     "metadata": {
      "needs_background": "light"
     },
     "output_type": "display_data"
    }
   ],
   "source": [
    "plt.scatter(normales_gmm5.altura, normales_gmm5.edad, alpha=1, c=normales_gmm5.cluster)"
   ]
  }
 ],
 "metadata": {
  "kernelspec": {
   "display_name": "Python 3 (ipykernel)",
   "language": "python",
   "name": "python3"
  },
  "language_info": {
   "codemirror_mode": {
    "name": "ipython",
    "version": 3
   },
   "file_extension": ".py",
   "mimetype": "text/x-python",
   "name": "python",
   "nbconvert_exporter": "python",
   "pygments_lexer": "ipython3",
   "version": "3.9.12"
  }
 },
 "nbformat": 4,
 "nbformat_minor": 5
}
