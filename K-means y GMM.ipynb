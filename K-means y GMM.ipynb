{
 "cells": [
  {
   "cell_type": "markdown",
   "id": "bd23b76b",
   "metadata": {},
   "source": [
    "<b>Universidad Galileo</b><br/>\n",
    "<b>Maestría de Ciencia de Datos</b><br/>\n",
    "<b>Statistical Learning I</b><br/>\n",
    "<b>Jose Godoy</b><br/>\n",
    "<b>Carnet 22000570</b><br/>\n",
    "<b>15 de julio 2022</b><br/>"
   ]
  },
  {
   "cell_type": "markdown",
   "id": "c4e7d093",
   "metadata": {},
   "source": [
    "# 1. Cargando librerías"
   ]
  },
  {
   "cell_type": "code",
   "execution_count": 1,
   "id": "8eb028c6",
   "metadata": {},
   "outputs": [],
   "source": [
    "import numpy as np\n",
    "import pandas as pd\n",
    "import matplotlib.pyplot as plt"
   ]
  },
  {
   "cell_type": "markdown",
   "id": "5d04b5fe",
   "metadata": {},
   "source": [
    "# 2. Cargando set de datos"
   ]
  },
  {
   "cell_type": "code",
   "execution_count": 2,
   "id": "bf7cd6db",
   "metadata": {},
   "outputs": [],
   "source": [
    "xls = pd.ExcelFile('estaturas.xlsx')\n",
    "normales = pd.read_excel(xls, 'normales')\n",
    "valtest_normales = pd.read_excel(xls, 'valtest(normales)')\n",
    "valtest_anomalias = pd.read_excel(xls, 'valtest(anomalias)')"
   ]
  },
  {
   "cell_type": "markdown",
   "id": "f9af6ded",
   "metadata": {},
   "source": [
    "Renombrando columnas"
   ]
  },
  {
   "cell_type": "code",
   "execution_count": 3,
   "id": "a5df153e",
   "metadata": {},
   "outputs": [],
   "source": [
    "normales = pd.DataFrame({\"altura\": normales.iloc[:,0], \"edad\": normales.iloc[:,1]})\n",
    "valtest_normales = pd.DataFrame({\"altura\": valtest_normales.iloc[:,0], \"edad\": valtest_normales.iloc[:,1]})\n",
    "valtest_anomalias = pd.DataFrame({\"altura\": valtest_anomalias.iloc[:,0], \"edad\": valtest_anomalias.iloc[:,1]})"
   ]
  },
  {
   "cell_type": "markdown",
   "id": "8301ca35",
   "metadata": {},
   "source": [
    "Normalización"
   ]
  },
  {
   "cell_type": "code",
   "execution_count": 4,
   "id": "8cd8771d",
   "metadata": {},
   "outputs": [],
   "source": [
    "altura_mean = normales.altura.mean(axis=0)\n",
    "altura_std = normales.altura.std(axis=0)\n",
    "edad_mean = normales.edad.mean(axis=0)\n",
    "edad_std = normales.edad.std(axis=0)"
   ]
  },
  {
   "cell_type": "code",
   "execution_count": 5,
   "id": "a64914ae",
   "metadata": {},
   "outputs": [],
   "source": [
    "normales_n = normales.copy()\n",
    "normales_n.altura = (normales.altura-altura_mean)/altura_std\n",
    "normales_n.edad = (normales.edad-edad_mean)/edad_std\n",
    "\n",
    "valtest_normales_n = valtest_normales.copy()\n",
    "valtest_normales_n.altura = (valtest_normales.altura-altura_mean)/altura_std\n",
    "valtest_normales_n.edad = (valtest_normales.edad-edad_mean)/edad_std\n",
    "\n",
    "valtest_anomalias_n = valtest_anomalias.copy()\n",
    "valtest_anomalias_n.altura = (valtest_anomalias.altura-altura_mean)/altura_std\n",
    "valtest_anomalias_n.edad = (valtest_anomalias.edad-edad_mean)/edad_std"
   ]
  },
  {
   "cell_type": "markdown",
   "id": "1facdb0e",
   "metadata": {},
   "source": [
    "# 3. Algoritmo K-Means"
   ]
  },
  {
   "cell_type": "code",
   "execution_count": 6,
   "id": "f0cfd56c",
   "metadata": {},
   "outputs": [],
   "source": [
    "#Indices aleatorios\n",
    "np.random.seed(2022)"
   ]
  },
  {
   "cell_type": "code",
   "execution_count": 7,
   "id": "e89958ff",
   "metadata": {},
   "outputs": [],
   "source": [
    "#Algoritmo recursivo\n",
    "def k_means(k_mean_param, k_mean_set, kparams, contador, ciclo):\n",
    "    posicion_kparams = kparams.copy()\n",
    "    longitud = len(k_mean_set)\n",
    "    #Creando array de distancias y asignación de clusters\n",
    "    distancias = np.full(longitud, -1.0)\n",
    "    cluster = np.zeros(longitud)\n",
    "    #Para cada registro\n",
    "    for i in range(longitud):\n",
    "        i_edad = k_mean_set.iloc[i,:].edad\n",
    "        i_altura = k_mean_set.iloc[i,:].altura\n",
    "        #Encontrando el centroide más cercano\n",
    "        for j in range(k_mean_param):\n",
    "            k_edad = kparams.iloc[j,:].edad\n",
    "            k_altura = kparams.iloc[j,:].altura\n",
    "            #Distancia\n",
    "            distance_k = np.sqrt((k_edad - i_edad) ** 2 + (k_altura - i_altura) ** 2)\n",
    "            if( distancias[i]==-1 or distancias[i]>distance_k):\n",
    "                #Distancia más corta\n",
    "                distancias[i] = distance_k\n",
    "                cluster[i] = j\n",
    "    #Reasignando posición de los clusters\n",
    "    for j in range(k_mean_param):\n",
    "        kparams.iloc[j,:].edad = k_mean_set[\"edad\"][cluster == j].mean(axis=0)\n",
    "        kparams.iloc[j,:].altura = k_mean_set[\"altura\"][cluster == j].mean(axis=0)\n",
    "    #Incrementar el contador si la posición de los clusters es la misma\n",
    "    if( posicion_kparams.equals(kparams) ):\n",
    "        contador=contador+1\n",
    "    #Si la posición de los clusters es la misma dos veces consecutivamente\n",
    "    if( contador >= 2):\n",
    "        #Regresar parametros\n",
    "        return (cluster, kparams, ciclo)\n",
    "    else:\n",
    "        #Repetir algoritmo\n",
    "        return k_means(k_mean_param, k_mean_set, kparams, contador, ciclo + 1)"
   ]
  },
  {
   "cell_type": "code",
   "execution_count": 8,
   "id": "41be994b",
   "metadata": {},
   "outputs": [],
   "source": [
    "#Algoritmo kmeans\n",
    "def k_means_algoritmo(k_mean_param, k_mean_set):\n",
    "    #Calculando posición de clusters aleatoria\n",
    "    longitud = len(k_mean_set)\n",
    "    indices = np.random.choice(longitud, k_mean_param, replace=False)\n",
    "    kparams = k_mean_set.iloc[indices,:].copy()\n",
    "    return k_means(k_mean_param, k_mean_set, kparams, 0, 1)"
   ]
  },
  {
   "cell_type": "markdown",
   "id": "a5026264",
   "metadata": {},
   "source": [
    "## 3.1. Algoritmo K-Means - Experimento 1, k = 3"
   ]
  },
  {
   "cell_type": "markdown",
   "id": "e3702060",
   "metadata": {},
   "source": [
    "Ejecutando algoritmo K-means recursivo:"
   ]
  },
  {
   "cell_type": "code",
   "execution_count": 9,
   "id": "83a2c511",
   "metadata": {},
   "outputs": [],
   "source": [
    "(cluster, kparams, ciclos) = k_means_algoritmo(3, normales_n)"
   ]
  },
  {
   "cell_type": "code",
   "execution_count": 10,
   "id": "3fda4bb3",
   "metadata": {},
   "outputs": [
    {
     "name": "stdout",
     "output_type": "stream",
     "text": [
      "El algoritmo se ejecutó 5 veces después de 2 iteraciones en el mismo lugar.\n"
     ]
    }
   ],
   "source": [
    "print(\"El algoritmo se ejecutó\",ciclos,\"veces después de 2 iteraciones en el mismo lugar.\")"
   ]
  },
  {
   "cell_type": "markdown",
   "id": "69d9097c",
   "metadata": {},
   "source": [
    "Clusters encontrados:"
   ]
  },
  {
   "cell_type": "code",
   "execution_count": 11,
   "id": "dee07633",
   "metadata": {},
   "outputs": [
    {
     "name": "stdout",
     "output_type": "stream",
     "text": [
      "     altura       edad\n",
      "0  1.670769  30.692308\n",
      "1  1.774000  25.450000\n",
      "2  1.816000  42.800000\n"
     ]
    }
   ],
   "source": [
    "kparams.altura = (kparams.altura * altura_std) + altura_mean\n",
    "kparams.edad = (kparams.edad * edad_std) + edad_mean\n",
    "print(kparams.reset_index(drop=True))"
   ]
  },
  {
   "cell_type": "markdown",
   "id": "8d7a126c",
   "metadata": {},
   "source": [
    "Tabla de edades y cluster asignado:"
   ]
  },
  {
   "cell_type": "code",
   "execution_count": 12,
   "id": "693156d2",
   "metadata": {},
   "outputs": [
    {
     "data": {
      "text/html": [
       "<div>\n",
       "<style scoped>\n",
       "    .dataframe tbody tr th:only-of-type {\n",
       "        vertical-align: middle;\n",
       "    }\n",
       "\n",
       "    .dataframe tbody tr th {\n",
       "        vertical-align: top;\n",
       "    }\n",
       "\n",
       "    .dataframe thead th {\n",
       "        text-align: right;\n",
       "    }\n",
       "</style>\n",
       "<table border=\"1\" class=\"dataframe\">\n",
       "  <thead>\n",
       "    <tr style=\"text-align: right;\">\n",
       "      <th></th>\n",
       "      <th>altura</th>\n",
       "      <th>edad</th>\n",
       "      <th>cluster</th>\n",
       "      <th>cluster_altura</th>\n",
       "      <th>cluster_edad</th>\n",
       "    </tr>\n",
       "  </thead>\n",
       "  <tbody>\n",
       "    <tr>\n",
       "      <th>0</th>\n",
       "      <td>1.77</td>\n",
       "      <td>26</td>\n",
       "      <td>1.0</td>\n",
       "      <td>1.774000</td>\n",
       "      <td>25.450000</td>\n",
       "    </tr>\n",
       "    <tr>\n",
       "      <th>1</th>\n",
       "      <td>1.74</td>\n",
       "      <td>31</td>\n",
       "      <td>0.0</td>\n",
       "      <td>1.670769</td>\n",
       "      <td>30.692308</td>\n",
       "    </tr>\n",
       "    <tr>\n",
       "      <th>2</th>\n",
       "      <td>1.72</td>\n",
       "      <td>24</td>\n",
       "      <td>1.0</td>\n",
       "      <td>1.774000</td>\n",
       "      <td>25.450000</td>\n",
       "    </tr>\n",
       "    <tr>\n",
       "      <th>3</th>\n",
       "      <td>1.78</td>\n",
       "      <td>34</td>\n",
       "      <td>1.0</td>\n",
       "      <td>1.774000</td>\n",
       "      <td>25.450000</td>\n",
       "    </tr>\n",
       "    <tr>\n",
       "      <th>4</th>\n",
       "      <td>1.65</td>\n",
       "      <td>32</td>\n",
       "      <td>0.0</td>\n",
       "      <td>1.670769</td>\n",
       "      <td>30.692308</td>\n",
       "    </tr>\n",
       "  </tbody>\n",
       "</table>\n",
       "</div>"
      ],
      "text/plain": [
       "   altura  edad  cluster  cluster_altura  cluster_edad\n",
       "0    1.77    26      1.0        1.774000     25.450000\n",
       "1    1.74    31      0.0        1.670769     30.692308\n",
       "2    1.72    24      1.0        1.774000     25.450000\n",
       "3    1.78    34      1.0        1.774000     25.450000\n",
       "4    1.65    32      0.0        1.670769     30.692308"
      ]
     },
     "execution_count": 12,
     "metadata": {},
     "output_type": "execute_result"
    }
   ],
   "source": [
    "normales_kmeans = normales.copy()\n",
    "normales_kmeans[\"cluster\"] = cluster\n",
    "normales_kmeans[\"cluster_altura\"] = np.array(kparams.iloc[cluster,:].altura)\n",
    "normales_kmeans[\"cluster_edad\"] = np.array(kparams.iloc[cluster,:].edad)\n",
    "normales_kmeans.head()"
   ]
  },
  {
   "cell_type": "markdown",
   "id": "9c3d598d",
   "metadata": {},
   "source": [
    "Gráfica de puntos"
   ]
  },
  {
   "cell_type": "code",
   "execution_count": 13,
   "id": "233eefc7",
   "metadata": {
    "scrolled": true
   },
   "outputs": [
    {
     "data": {
      "text/plain": [
       "<matplotlib.collections.PathCollection at 0x1a3d1c787c0>"
      ]
     },
     "execution_count": 13,
     "metadata": {},
     "output_type": "execute_result"
    },
    {
     "data": {
      "image/png": "[encoded data removed]",
      "text/plain": [
       "<Figure size 432x288 with 1 Axes>"
      ]
     },
     "metadata": {
      "needs_background": "light"
     },
     "output_type": "display_data"
    }
   ],
   "source": [
    "plt.scatter(normales_kmeans.altura, normales_kmeans.edad, alpha=1, c=normales_kmeans.cluster)"
   ]
  },
  {
   "cell_type": "markdown",
   "id": "24ebd5f5",
   "metadata": {},
   "source": [
    "## 3.2. Algoritmo K-Means - Experimento 2, k = 4"
   ]
  },
  {
   "cell_type": "markdown",
   "id": "392ba05f",
   "metadata": {},
   "source": [
    "Ejecutando algoritmo K-means recursivo:"
   ]
  },
  {
   "cell_type": "code",
   "execution_count": 22,
   "id": "ff794015",
   "metadata": {},
   "outputs": [],
   "source": [
    "(cluster2, kparams2, ciclos2) = k_means_algoritmo(4, normales_n)"
   ]
  },
  {
   "cell_type": "code",
   "execution_count": 24,
   "id": "8fc64489",
   "metadata": {},
   "outputs": [
    {
     "name": "stdout",
     "output_type": "stream",
     "text": [
      "El algoritmo se ejecutó 5 veces después de 2 iteraciones en el mismo lugar.\n"
     ]
    }
   ],
   "source": [
    "print(\"El algoritmo se ejecutó\",ciclos2,\"veces después de 2 iteraciones en el mismo lugar.\")"
   ]
  },
  {
   "cell_type": "markdown",
   "id": "e5ac1ec1",
   "metadata": {},
   "source": [
    "Clusters encontrados:"
   ]
  },
  {
   "cell_type": "code",
   "execution_count": 23,
   "id": "0b914274",
   "metadata": {},
   "outputs": [
    {
     "name": "stdout",
     "output_type": "stream",
     "text": [
      "     altura       edad\n",
      "0  1.667333  29.066667\n",
      "1  1.773889  24.611111\n",
      "2  1.754000  37.533333\n",
      "3  1.583333  26.333333\n"
     ]
    }
   ],
   "source": [
    "kparams2.altura = (kparams2.altura * altura_std) + altura_mean\n",
    "kparams2.edad = (kparams2.edad * edad_std) + edad_mean\n",
    "print(kparams2.reset_index(drop=True))"
   ]
  },
  {
   "cell_type": "markdown",
   "id": "ccca3032",
   "metadata": {},
   "source": [
    "Tabla de edades y cluster asignado:"
   ]
  },
  {
   "cell_type": "code",
   "execution_count": 25,
   "id": "5728e04c",
   "metadata": {},
   "outputs": [
    {
     "data": {
      "text/html": [
       "<div>\n",
       "<style scoped>\n",
       "    .dataframe tbody tr th:only-of-type {\n",
       "        vertical-align: middle;\n",
       "    }\n",
       "\n",
       "    .dataframe tbody tr th {\n",
       "        vertical-align: top;\n",
       "    }\n",
       "\n",
       "    .dataframe thead th {\n",
       "        text-align: right;\n",
       "    }\n",
       "</style>\n",
       "<table border=\"1\" class=\"dataframe\">\n",
       "  <thead>\n",
       "    <tr style=\"text-align: right;\">\n",
       "      <th></th>\n",
       "      <th>altura</th>\n",
       "      <th>edad</th>\n",
       "      <th>cluster</th>\n",
       "      <th>cluster_altura</th>\n",
       "      <th>cluster_edad</th>\n",
       "    </tr>\n",
       "  </thead>\n",
       "  <tbody>\n",
       "    <tr>\n",
       "      <th>0</th>\n",
       "      <td>1.77</td>\n",
       "      <td>26</td>\n",
       "      <td>1.0</td>\n",
       "      <td>1.773889</td>\n",
       "      <td>24.611111</td>\n",
       "    </tr>\n",
       "    <tr>\n",
       "      <th>1</th>\n",
       "      <td>1.74</td>\n",
       "      <td>31</td>\n",
       "      <td>2.0</td>\n",
       "      <td>1.754000</td>\n",
       "      <td>37.533333</td>\n",
       "    </tr>\n",
       "    <tr>\n",
       "      <th>2</th>\n",
       "      <td>1.72</td>\n",
       "      <td>24</td>\n",
       "      <td>1.0</td>\n",
       "      <td>1.773889</td>\n",
       "      <td>24.611111</td>\n",
       "    </tr>\n",
       "    <tr>\n",
       "      <th>3</th>\n",
       "      <td>1.78</td>\n",
       "      <td>34</td>\n",
       "      <td>2.0</td>\n",
       "      <td>1.754000</td>\n",
       "      <td>37.533333</td>\n",
       "    </tr>\n",
       "    <tr>\n",
       "      <th>4</th>\n",
       "      <td>1.65</td>\n",
       "      <td>32</td>\n",
       "      <td>0.0</td>\n",
       "      <td>1.667333</td>\n",
       "      <td>29.066667</td>\n",
       "    </tr>\n",
       "  </tbody>\n",
       "</table>\n",
       "</div>"
      ],
      "text/plain": [
       "   altura  edad  cluster  cluster_altura  cluster_edad\n",
       "0    1.77    26      1.0        1.773889     24.611111\n",
       "1    1.74    31      2.0        1.754000     37.533333\n",
       "2    1.72    24      1.0        1.773889     24.611111\n",
       "3    1.78    34      2.0        1.754000     37.533333\n",
       "4    1.65    32      0.0        1.667333     29.066667"
      ]
     },
     "execution_count": 25,
     "metadata": {},
     "output_type": "execute_result"
    }
   ],
   "source": [
    "normales_kmeans2 = normales.copy()\n",
    "normales_kmeans2[\"cluster\"] = cluster2\n",
    "normales_kmeans2[\"cluster_altura\"] = np.array(kparams2.iloc[cluster2,:].altura)\n",
    "normales_kmeans2[\"cluster_edad\"] = np.array(kparams2.iloc[cluster2,:].edad)\n",
    "normales_kmeans2.head()"
   ]
  },
  {
   "cell_type": "markdown",
   "id": "b38f96b1",
   "metadata": {},
   "source": [
    "Gráfica de puntos"
   ]
  },
  {
   "cell_type": "code",
   "execution_count": 26,
   "id": "c0cf575e",
   "metadata": {},
   "outputs": [
    {
     "data": {
      "text/plain": [
       "<matplotlib.collections.PathCollection at 0x1a3d1dd5fa0>"
      ]
     },
     "execution_count": 26,
     "metadata": {},
     "output_type": "execute_result"
    },
    {
     "data": {
      "image/png": "[encoded data removed]",
      "text/plain": [
       "<Figure size 432x288 with 1 Axes>"
      ]
     },
     "metadata": {
      "needs_background": "light"
     },
     "output_type": "display_data"
    }
   ],
   "source": [
    "plt.scatter(normales_kmeans2.altura, normales_kmeans2.edad, alpha=1, c=normales_kmeans2.cluster)"
   ]
  },
  {
   "cell_type": "markdown",
   "id": "bfdb49bb",
   "metadata": {},
   "source": [
    "## 3.3. Algoritmo K-Means - Experimento 3, k = 5"
   ]
  },
  {
   "cell_type": "markdown",
   "id": "3f66ce3c",
   "metadata": {},
   "source": [
    "Ejecutando algoritmo K-means recursivo:"
   ]
  },
  {
   "cell_type": "code",
   "execution_count": 27,
   "id": "b558b9ec",
   "metadata": {},
   "outputs": [],
   "source": [
    "(cluster3, kparams3, ciclos3) = k_means_algoritmo(5, normales_n)"
   ]
  },
  {
   "cell_type": "code",
   "execution_count": 28,
   "id": "0196b0a8",
   "metadata": {},
   "outputs": [
    {
     "name": "stdout",
     "output_type": "stream",
     "text": [
      "El algoritmo se ejecutó 8 veces después de 2 iteraciones en el mismo lugar.\n"
     ]
    }
   ],
   "source": [
    "print(\"El algoritmo se ejecutó\",ciclos3,\"veces después de 2 iteraciones en el mismo lugar.\")"
   ]
  },
  {
   "cell_type": "markdown",
   "id": "023decbf",
   "metadata": {},
   "source": [
    "Clusters encontrados:"
   ]
  },
  {
   "cell_type": "code",
   "execution_count": 29,
   "id": "840c2764",
   "metadata": {},
   "outputs": [
    {
     "name": "stdout",
     "output_type": "stream",
     "text": [
      "     altura       edad\n",
      "0  1.833750  25.875000\n",
      "1  1.826667  47.333333\n",
      "2  1.730000  25.142857\n",
      "3  1.720000  35.000000\n",
      "4  1.636154  28.076923\n"
     ]
    }
   ],
   "source": [
    "kparams3.altura = (kparams3.altura * altura_std) + altura_mean\n",
    "kparams3.edad = (kparams3.edad * edad_std) + edad_mean\n",
    "print(kparams3.reset_index(drop=True))"
   ]
  },
  {
   "cell_type": "markdown",
   "id": "d0d491b8",
   "metadata": {},
   "source": [
    "Tabla de edades y cluster asignado:"
   ]
  },
  {
   "cell_type": "code",
   "execution_count": 30,
   "id": "90e6be5c",
   "metadata": {},
   "outputs": [
    {
     "data": {
      "text/html": [
       "<div>\n",
       "<style scoped>\n",
       "    .dataframe tbody tr th:only-of-type {\n",
       "        vertical-align: middle;\n",
       "    }\n",
       "\n",
       "    .dataframe tbody tr th {\n",
       "        vertical-align: top;\n",
       "    }\n",
       "\n",
       "    .dataframe thead th {\n",
       "        text-align: right;\n",
       "    }\n",
       "</style>\n",
       "<table border=\"1\" class=\"dataframe\">\n",
       "  <thead>\n",
       "    <tr style=\"text-align: right;\">\n",
       "      <th></th>\n",
       "      <th>altura</th>\n",
       "      <th>edad</th>\n",
       "      <th>cluster</th>\n",
       "      <th>cluster_altura</th>\n",
       "      <th>cluster_edad</th>\n",
       "    </tr>\n",
       "  </thead>\n",
       "  <tbody>\n",
       "    <tr>\n",
       "      <th>0</th>\n",
       "      <td>1.77</td>\n",
       "      <td>26</td>\n",
       "      <td>2.0</td>\n",
       "      <td>1.730000</td>\n",
       "      <td>25.142857</td>\n",
       "    </tr>\n",
       "    <tr>\n",
       "      <th>1</th>\n",
       "      <td>1.74</td>\n",
       "      <td>31</td>\n",
       "      <td>3.0</td>\n",
       "      <td>1.720000</td>\n",
       "      <td>35.000000</td>\n",
       "    </tr>\n",
       "    <tr>\n",
       "      <th>2</th>\n",
       "      <td>1.72</td>\n",
       "      <td>24</td>\n",
       "      <td>2.0</td>\n",
       "      <td>1.730000</td>\n",
       "      <td>25.142857</td>\n",
       "    </tr>\n",
       "    <tr>\n",
       "      <th>3</th>\n",
       "      <td>1.78</td>\n",
       "      <td>34</td>\n",
       "      <td>3.0</td>\n",
       "      <td>1.720000</td>\n",
       "      <td>35.000000</td>\n",
       "    </tr>\n",
       "    <tr>\n",
       "      <th>4</th>\n",
       "      <td>1.65</td>\n",
       "      <td>32</td>\n",
       "      <td>4.0</td>\n",
       "      <td>1.636154</td>\n",
       "      <td>28.076923</td>\n",
       "    </tr>\n",
       "  </tbody>\n",
       "</table>\n",
       "</div>"
      ],
      "text/plain": [
       "   altura  edad  cluster  cluster_altura  cluster_edad\n",
       "0    1.77    26      2.0        1.730000     25.142857\n",
       "1    1.74    31      3.0        1.720000     35.000000\n",
       "2    1.72    24      2.0        1.730000     25.142857\n",
       "3    1.78    34      3.0        1.720000     35.000000\n",
       "4    1.65    32      4.0        1.636154     28.076923"
      ]
     },
     "execution_count": 30,
     "metadata": {},
     "output_type": "execute_result"
    }
   ],
   "source": [
    "normales_kmeans3 = normales.copy()\n",
    "normales_kmeans3[\"cluster\"] = cluster3\n",
    "normales_kmeans3[\"cluster_altura\"] = np.array(kparams3.iloc[cluster3,:].altura)\n",
    "normales_kmeans3[\"cluster_edad\"] = np.array(kparams3.iloc[cluster3,:].edad)\n",
    "normales_kmeans3.head()"
   ]
  },
  {
   "cell_type": "markdown",
   "id": "fe9ec419",
   "metadata": {},
   "source": [
    "Gráfica de puntos"
   ]
  },
  {
   "cell_type": "code",
   "execution_count": 31,
   "id": "fbf0a8b5",
   "metadata": {},
   "outputs": [
    {
     "data": {
      "text/plain": [
       "<matplotlib.collections.PathCollection at 0x1a3d1e49c10>"
      ]
     },
     "execution_count": 31,
     "metadata": {},
     "output_type": "execute_result"
    },
    {
     "data": {
      "image/png": "[encoded data removed]",
      "text/plain": [
       "<Figure size 432x288 with 1 Axes>"
      ]
     },
     "metadata": {
      "needs_background": "light"
     },
     "output_type": "display_data"
    }
   ],
   "source": [
    "plt.scatter(normales_kmeans3.altura, normales_kmeans3.edad, alpha=1, c=normales_kmeans3.cluster)"
   ]
  },
  {
   "cell_type": "markdown",
   "id": "6a52df00",
   "metadata": {},
   "source": [
    "## 3.4. Algoritmo K-Means - Experimento 4, k = 6"
   ]
  },
  {
   "cell_type": "markdown",
   "id": "19a0b923",
   "metadata": {},
   "source": [
    "Ejecutando algoritmo K-means recursivo:"
   ]
  },
  {
   "cell_type": "code",
   "execution_count": 32,
   "id": "6649a4af",
   "metadata": {},
   "outputs": [],
   "source": [
    "(cluster4, kparams4, ciclos4) = k_means_algoritmo(6, normales_n)"
   ]
  },
  {
   "cell_type": "code",
   "execution_count": 33,
   "id": "3f9a7f99",
   "metadata": {},
   "outputs": [
    {
     "name": "stdout",
     "output_type": "stream",
     "text": [
      "El algoritmo se ejecutó 8 veces después de 2 iteraciones en el mismo lugar.\n"
     ]
    }
   ],
   "source": [
    "print(\"El algoritmo se ejecutó\",ciclos4,\"veces después de 2 iteraciones en el mismo lugar.\")"
   ]
  },
  {
   "cell_type": "markdown",
   "id": "ed35c51c",
   "metadata": {},
   "source": [
    "Clusters encontrados:"
   ]
  },
  {
   "cell_type": "code",
   "execution_count": 34,
   "id": "28a1e185",
   "metadata": {},
   "outputs": [
    {
     "name": "stdout",
     "output_type": "stream",
     "text": [
      "     altura       edad\n",
      "0  1.753333  34.333333\n",
      "1  1.636154  28.076923\n",
      "2  1.840000  51.000000\n",
      "3  1.656667  39.000000\n",
      "4  1.831429  24.714286\n",
      "5  1.730000  25.142857\n"
     ]
    }
   ],
   "source": [
    "kparams4.altura = (kparams4.altura * altura_std) + altura_mean\n",
    "kparams4.edad = (kparams4.edad * edad_std) + edad_mean\n",
    "print(kparams4.reset_index(drop=True))"
   ]
  },
  {
   "cell_type": "markdown",
   "id": "3705b986",
   "metadata": {},
   "source": [
    "Tabla de edades y cluster asignado:"
   ]
  },
  {
   "cell_type": "code",
   "execution_count": 35,
   "id": "e9188dd9",
   "metadata": {},
   "outputs": [
    {
     "data": {
      "text/html": [
       "<div>\n",
       "<style scoped>\n",
       "    .dataframe tbody tr th:only-of-type {\n",
       "        vertical-align: middle;\n",
       "    }\n",
       "\n",
       "    .dataframe tbody tr th {\n",
       "        vertical-align: top;\n",
       "    }\n",
       "\n",
       "    .dataframe thead th {\n",
       "        text-align: right;\n",
       "    }\n",
       "</style>\n",
       "<table border=\"1\" class=\"dataframe\">\n",
       "  <thead>\n",
       "    <tr style=\"text-align: right;\">\n",
       "      <th></th>\n",
       "      <th>altura</th>\n",
       "      <th>edad</th>\n",
       "      <th>cluster</th>\n",
       "      <th>cluster_altura</th>\n",
       "      <th>cluster_edad</th>\n",
       "    </tr>\n",
       "  </thead>\n",
       "  <tbody>\n",
       "    <tr>\n",
       "      <th>0</th>\n",
       "      <td>1.77</td>\n",
       "      <td>26</td>\n",
       "      <td>5.0</td>\n",
       "      <td>1.730000</td>\n",
       "      <td>25.142857</td>\n",
       "    </tr>\n",
       "    <tr>\n",
       "      <th>1</th>\n",
       "      <td>1.74</td>\n",
       "      <td>31</td>\n",
       "      <td>0.0</td>\n",
       "      <td>1.753333</td>\n",
       "      <td>34.333333</td>\n",
       "    </tr>\n",
       "    <tr>\n",
       "      <th>2</th>\n",
       "      <td>1.72</td>\n",
       "      <td>24</td>\n",
       "      <td>5.0</td>\n",
       "      <td>1.730000</td>\n",
       "      <td>25.142857</td>\n",
       "    </tr>\n",
       "    <tr>\n",
       "      <th>3</th>\n",
       "      <td>1.78</td>\n",
       "      <td>34</td>\n",
       "      <td>0.0</td>\n",
       "      <td>1.753333</td>\n",
       "      <td>34.333333</td>\n",
       "    </tr>\n",
       "    <tr>\n",
       "      <th>4</th>\n",
       "      <td>1.65</td>\n",
       "      <td>32</td>\n",
       "      <td>1.0</td>\n",
       "      <td>1.636154</td>\n",
       "      <td>28.076923</td>\n",
       "    </tr>\n",
       "  </tbody>\n",
       "</table>\n",
       "</div>"
      ],
      "text/plain": [
       "   altura  edad  cluster  cluster_altura  cluster_edad\n",
       "0    1.77    26      5.0        1.730000     25.142857\n",
       "1    1.74    31      0.0        1.753333     34.333333\n",
       "2    1.72    24      5.0        1.730000     25.142857\n",
       "3    1.78    34      0.0        1.753333     34.333333\n",
       "4    1.65    32      1.0        1.636154     28.076923"
      ]
     },
     "execution_count": 35,
     "metadata": {},
     "output_type": "execute_result"
    }
   ],
   "source": [
    "normales_kmeans4 = normales.copy()\n",
    "normales_kmeans4[\"cluster\"] = cluster4\n",
    "normales_kmeans4[\"cluster_altura\"] = np.array(kparams4.iloc[cluster4,:].altura)\n",
    "normales_kmeans4[\"cluster_edad\"] = np.array(kparams4.iloc[cluster4,:].edad)\n",
    "normales_kmeans4.head()"
   ]
  },
  {
   "cell_type": "markdown",
   "id": "ac85e3ae",
   "metadata": {},
   "source": [
    "Gráfica de puntos"
   ]
  },
  {
   "cell_type": "code",
   "execution_count": 36,
   "id": "b0dd83be",
   "metadata": {},
   "outputs": [
    {
     "data": {
      "text/plain": [
       "<matplotlib.collections.PathCollection at 0x1a3d1ebb7c0>"
      ]
     },
     "execution_count": 36,
     "metadata": {},
     "output_type": "execute_result"
    },
    {
     "data": {
      "image/png": "[encoded data removed]",
      "text/plain": [
       "<Figure size 432x288 with 1 Axes>"
      ]
     },
     "metadata": {
      "needs_background": "light"
     },
     "output_type": "display_data"
    }
   ],
   "source": [
    "plt.scatter(normales_kmeans4.altura, normales_kmeans4.edad, alpha=1, c=normales_kmeans4.cluster)"
   ]
  },
  {
   "cell_type": "markdown",
   "id": "4161fdc9",
   "metadata": {},
   "source": [
    "## 3.5. Algoritmo K-Means - Experimento 5, k = 2"
   ]
  },
  {
   "cell_type": "markdown",
   "id": "acee8069",
   "metadata": {},
   "source": [
    "Ejecutando algoritmo K-means recursivo:"
   ]
  },
  {
   "cell_type": "code",
   "execution_count": 37,
   "id": "55c371f0",
   "metadata": {},
   "outputs": [],
   "source": [
    "(cluster5, kparams5, ciclos5) = k_means_algoritmo(2, normales_n)"
   ]
  },
  {
   "cell_type": "code",
   "execution_count": 38,
   "id": "1f995309",
   "metadata": {},
   "outputs": [
    {
     "name": "stdout",
     "output_type": "stream",
     "text": [
      "El algoritmo se ejecutó 3 veces después de 2 iteraciones en el mismo lugar.\n"
     ]
    }
   ],
   "source": [
    "print(\"El algoritmo se ejecutó\",ciclos5,\"veces después de 2 iteraciones en el mismo lugar.\")"
   ]
  },
  {
   "cell_type": "markdown",
   "id": "9f6818af",
   "metadata": {},
   "source": [
    "Clusters encontrados:"
   ]
  },
  {
   "cell_type": "code",
   "execution_count": 39,
   "id": "1ec011e9",
   "metadata": {},
   "outputs": [
    {
     "name": "stdout",
     "output_type": "stream",
     "text": [
      "     altura       edad\n",
      "0  1.770625  29.750000\n",
      "1  1.649474  29.947368\n"
     ]
    }
   ],
   "source": [
    "kparams5.altura = (kparams5.altura * altura_std) + altura_mean\n",
    "kparams5.edad = (kparams5.edad * edad_std) + edad_mean\n",
    "print(kparams5.reset_index(drop=True))"
   ]
  },
  {
   "cell_type": "markdown",
   "id": "811da527",
   "metadata": {},
   "source": [
    "Tabla de edades y cluster asignado:"
   ]
  },
  {
   "cell_type": "code",
   "execution_count": 41,
   "id": "d4bc448d",
   "metadata": {},
   "outputs": [
    {
     "data": {
      "text/html": [
       "<div>\n",
       "<style scoped>\n",
       "    .dataframe tbody tr th:only-of-type {\n",
       "        vertical-align: middle;\n",
       "    }\n",
       "\n",
       "    .dataframe tbody tr th {\n",
       "        vertical-align: top;\n",
       "    }\n",
       "\n",
       "    .dataframe thead th {\n",
       "        text-align: right;\n",
       "    }\n",
       "</style>\n",
       "<table border=\"1\" class=\"dataframe\">\n",
       "  <thead>\n",
       "    <tr style=\"text-align: right;\">\n",
       "      <th></th>\n",
       "      <th>altura</th>\n",
       "      <th>edad</th>\n",
       "      <th>cluster</th>\n",
       "      <th>cluster_altura</th>\n",
       "      <th>cluster_edad</th>\n",
       "    </tr>\n",
       "  </thead>\n",
       "  <tbody>\n",
       "    <tr>\n",
       "      <th>0</th>\n",
       "      <td>1.77</td>\n",
       "      <td>26</td>\n",
       "      <td>0.0</td>\n",
       "      <td>1.770625</td>\n",
       "      <td>29.750000</td>\n",
       "    </tr>\n",
       "    <tr>\n",
       "      <th>1</th>\n",
       "      <td>1.74</td>\n",
       "      <td>31</td>\n",
       "      <td>0.0</td>\n",
       "      <td>1.770625</td>\n",
       "      <td>29.750000</td>\n",
       "    </tr>\n",
       "    <tr>\n",
       "      <th>2</th>\n",
       "      <td>1.72</td>\n",
       "      <td>24</td>\n",
       "      <td>0.0</td>\n",
       "      <td>1.770625</td>\n",
       "      <td>29.750000</td>\n",
       "    </tr>\n",
       "    <tr>\n",
       "      <th>3</th>\n",
       "      <td>1.78</td>\n",
       "      <td>34</td>\n",
       "      <td>0.0</td>\n",
       "      <td>1.770625</td>\n",
       "      <td>29.750000</td>\n",
       "    </tr>\n",
       "    <tr>\n",
       "      <th>4</th>\n",
       "      <td>1.65</td>\n",
       "      <td>32</td>\n",
       "      <td>1.0</td>\n",
       "      <td>1.649474</td>\n",
       "      <td>29.947368</td>\n",
       "    </tr>\n",
       "  </tbody>\n",
       "</table>\n",
       "</div>"
      ],
      "text/plain": [
       "   altura  edad  cluster  cluster_altura  cluster_edad\n",
       "0    1.77    26      0.0        1.770625     29.750000\n",
       "1    1.74    31      0.0        1.770625     29.750000\n",
       "2    1.72    24      0.0        1.770625     29.750000\n",
       "3    1.78    34      0.0        1.770625     29.750000\n",
       "4    1.65    32      1.0        1.649474     29.947368"
      ]
     },
     "execution_count": 41,
     "metadata": {},
     "output_type": "execute_result"
    }
   ],
   "source": [
    "normales_kmeans5 = normales.copy()\n",
    "normales_kmeans5[\"cluster\"] = cluster5\n",
    "normales_kmeans5[\"cluster_altura\"] = np.array(kparams5.iloc[cluster5,:].altura)\n",
    "normales_kmeans5[\"cluster_edad\"] = np.array(kparams5.iloc[cluster5,:].edad)\n",
    "normales_kmeans5.head()"
   ]
  },
  {
   "cell_type": "markdown",
   "id": "97386610",
   "metadata": {},
   "source": [
    "Gráfica de puntos"
   ]
  },
  {
   "cell_type": "code",
   "execution_count": 42,
   "id": "488eed58",
   "metadata": {},
   "outputs": [
    {
     "data": {
      "text/plain": [
       "<matplotlib.collections.PathCollection at 0x1a3d1f2f730>"
      ]
     },
     "execution_count": 42,
     "metadata": {},
     "output_type": "execute_result"
    },
    {
     "data": {
      "image/png": "[encoded data removed]",
      "text/plain": [
       "<Figure size 432x288 with 1 Axes>"
      ]
     },
     "metadata": {
      "needs_background": "light"
     },
     "output_type": "display_data"
    }
   ],
   "source": [
    "plt.scatter(normales_kmeans5.altura, normales_kmeans5.edad, alpha=1, c=normales_kmeans5.cluster)"
   ]
  }
 ],
 "metadata": {
  "kernelspec": {
   "display_name": "Python 3 (ipykernel)",
   "language": "python",
   "name": "python3"
  },
  "language_info": {
   "codemirror_mode": {
    "name": "ipython",
    "version": 3
   },
   "file_extension": ".py",
   "mimetype": "text/x-python",
   "name": "python",
   "nbconvert_exporter": "python",
   "pygments_lexer": "ipython3",
   "version": "3.9.12"
  }
 },
 "nbformat": 4,
 "nbformat_minor": 5
}
