{
 "cells": [
  {
   "cell_type": "markdown",
   "id": "bd23b76b",
   "metadata": {},
   "source": [
    "<b>Universidad Galileo</b><br/>\n",
    "<b>Maestría de Ciencia de Datos</b><br/>\n",
    "<b>Statistical Learning I</b><br/>\n",
    "<b>Jose Godoy</b><br/>\n",
    "<b>Carnet 22000570</b><br/>\n",
    "<b>15 de julio 2022</b><br/>"
   ]
  },
  {
   "cell_type": "markdown",
   "id": "c4e7d093",
   "metadata": {},
   "source": [
    "# 1. Cargando librerías"
   ]
  },
  {
   "cell_type": "code",
   "execution_count": 305,
   "id": "8eb028c6",
   "metadata": {},
   "outputs": [],
   "source": [
    "import numpy as np\n",
    "import pandas as pd\n",
    "import matplotlib.pyplot as plt"
   ]
  },
  {
   "cell_type": "markdown",
   "id": "5d04b5fe",
   "metadata": {},
   "source": [
    "# 2. Cargando set de datos"
   ]
  },
  {
   "cell_type": "code",
   "execution_count": 306,
   "id": "bf7cd6db",
   "metadata": {},
   "outputs": [],
   "source": [
    "xls = pd.ExcelFile('estaturas.xlsx')\n",
    "normales = pd.read_excel(xls, 'normales')\n",
    "valtest_normales = pd.read_excel(xls, 'valtest(normales)')\n",
    "valtest_anomalias = pd.read_excel(xls, 'valtest(anomalias)')"
   ]
  },
  {
   "cell_type": "markdown",
   "id": "f9af6ded",
   "metadata": {},
   "source": [
    "Renombrando columnas"
   ]
  },
  {
   "cell_type": "code",
   "execution_count": 307,
   "id": "a5df153e",
   "metadata": {},
   "outputs": [],
   "source": [
    "normales = pd.DataFrame({\"altura\": normales.iloc[:,0], \"edad\": normales.iloc[:,1]})\n",
    "valtest_normales = pd.DataFrame({\"altura\": valtest_normales.iloc[:,0], \"edad\": valtest_normales.iloc[:,1]})\n",
    "valtest_anomalias = pd.DataFrame({\"altura\": valtest_anomalias.iloc[:,0], \"edad\": valtest_anomalias.iloc[:,1]})"
   ]
  },
  {
   "cell_type": "markdown",
   "id": "8301ca35",
   "metadata": {},
   "source": [
    "Normalización"
   ]
  },
  {
   "cell_type": "code",
   "execution_count": 308,
   "id": "8cd8771d",
   "metadata": {},
   "outputs": [],
   "source": [
    "altura_mean = normales.altura.mean(axis=0)\n",
    "altura_std = normales.altura.std(axis=0)\n",
    "edad_mean = normales.edad.mean(axis=0)\n",
    "edad_std = normales.edad.std(axis=0)"
   ]
  },
  {
   "cell_type": "code",
   "execution_count": 309,
   "id": "a64914ae",
   "metadata": {},
   "outputs": [],
   "source": [
    "normales_n = normales.copy()\n",
    "normales_n.altura = (normales.altura-altura_mean)/altura_std\n",
    "normales_n.edad = (normales.edad-edad_mean)/edad_std\n",
    "\n",
    "valtest_normales_n = valtest_normales.copy()\n",
    "valtest_normales_n.altura = (valtest_normales.altura-altura_mean)/altura_std\n",
    "valtest_normales_n.edad = (valtest_normales.edad-edad_mean)/edad_std\n",
    "\n",
    "valtest_anomalias_n = valtest_anomalias.copy()\n",
    "valtest_anomalias_n.altura = (valtest_anomalias.altura-altura_mean)/altura_std\n",
    "valtest_anomalias_n.edad = (valtest_anomalias.edad-edad_mean)/edad_std"
   ]
  },
  {
   "cell_type": "markdown",
   "id": "1facdb0e",
   "metadata": {},
   "source": [
    "# 3. Algoritmo K-Means"
   ]
  },
  {
   "cell_type": "code",
   "execution_count": 310,
   "id": "f0cfd56c",
   "metadata": {},
   "outputs": [],
   "source": [
    "#Indices aleatorios\n",
    "np.random.seed(2022)"
   ]
  },
  {
   "cell_type": "code",
   "execution_count": 311,
   "id": "e89958ff",
   "metadata": {},
   "outputs": [],
   "source": [
    "#Algoritmo recursivo\n",
    "def k_means(k_mean_param, k_mean_set, kparams, contador, ciclo):\n",
    "    posicion_kparams = kparams.copy()\n",
    "    longitud = len(k_mean_set)\n",
    "    #Creando array de distancias y asignación de clusters\n",
    "    distancias = np.full(longitud, -1.0)\n",
    "    cluster = np.zeros(longitud)\n",
    "    #Para cada registro\n",
    "    for i in range(longitud):\n",
    "        i_edad = k_mean_set.iloc[i,:].edad\n",
    "        i_altura = k_mean_set.iloc[i,:].altura\n",
    "        #Encontrando el centroide más cercano\n",
    "        for j in range(k_mean_param):\n",
    "            k_edad = kparams.iloc[j,:].edad\n",
    "            k_altura = kparams.iloc[j,:].altura\n",
    "            #Distancia\n",
    "            distance_k = np.sqrt((k_edad - i_edad) ** 2 + (k_altura - i_altura) ** 2)\n",
    "            if( distancias[i]==-1 or distancias[i]>distance_k):\n",
    "                #Distancia más corta\n",
    "                distancias[i] = distance_k\n",
    "                cluster[i] = j\n",
    "    #Reasignando posición de los clusters\n",
    "    for j in range(k_mean_param):\n",
    "        kparams.iloc[j,:].edad = k_mean_set[\"edad\"][cluster == j].mean(axis=0)\n",
    "        kparams.iloc[j,:].altura = k_mean_set[\"altura\"][cluster == j].mean(axis=0)\n",
    "    #Incrementar el contador si la posición de los clusters es la misma\n",
    "    if( posicion_kparams.equals(kparams) ):\n",
    "        contador=contador+1\n",
    "    #Si la posición de los clusters es la misma dos veces consecutivamente\n",
    "    if( contador >= 2):\n",
    "        #Regresar parametros\n",
    "        return (cluster, kparams, ciclo)\n",
    "    else:\n",
    "        #Repetir algoritmo\n",
    "        return k_means(k_mean_param, k_mean_set, kparams, contador, ciclo + 1)"
   ]
  },
  {
   "cell_type": "code",
   "execution_count": 312,
   "id": "41be994b",
   "metadata": {},
   "outputs": [],
   "source": [
    "#Algoritmo kmeans\n",
    "def k_means_algoritmo(k_mean_param, k_mean_set):\n",
    "    #Calculando posición de clusters aleatoria\n",
    "    longitud = len(k_mean_set)\n",
    "    indices = np.random.choice(longitud, k_mean_param, replace=False)\n",
    "    kparams = k_mean_set.iloc[indices,:].copy()\n",
    "    return k_means(k_mean_param, k_mean_set, kparams, 0, 1)"
   ]
  },
  {
   "cell_type": "markdown",
   "id": "e3702060",
   "metadata": {},
   "source": [
    "Ejecutando algoritmo K-means recursivo:"
   ]
  },
  {
   "cell_type": "code",
   "execution_count": 313,
   "id": "83a2c511",
   "metadata": {},
   "outputs": [],
   "source": [
    "(cluster, kparams, ciclos) = k_means_algoritmo(3, normales_n)"
   ]
  },
  {
   "cell_type": "code",
   "execution_count": 314,
   "id": "3fda4bb3",
   "metadata": {},
   "outputs": [
    {
     "name": "stdout",
     "output_type": "stream",
     "text": [
      "El algoritmo se ejecutó 5 veces después de 2 iteraciones en el mismo lugar.\n"
     ]
    }
   ],
   "source": [
    "print(\"El algoritmo se ejecutó\",ciclos,\"veces después de 2 iteraciones en el mismo lugar.\")"
   ]
  },
  {
   "cell_type": "markdown",
   "id": "69d9097c",
   "metadata": {},
   "source": [
    "Clusters encontrados:"
   ]
  },
  {
   "cell_type": "code",
   "execution_count": 315,
   "id": "dee07633",
   "metadata": {},
   "outputs": [
    {
     "name": "stdout",
     "output_type": "stream",
     "text": [
      "     altura       edad\n",
      "0  1.670769  30.692308\n",
      "1  1.774000  25.450000\n",
      "2  1.816000  42.800000\n"
     ]
    }
   ],
   "source": [
    "kparams.altura = (kparams.altura * altura_std) + altura_mean\n",
    "kparams.edad = (kparams.edad * edad_std) + edad_mean\n",
    "print(kparams.reset_index(drop=True))"
   ]
  },
  {
   "cell_type": "markdown",
   "id": "8d7a126c",
   "metadata": {},
   "source": [
    "Tabla de edades y cluster asignado:"
   ]
  },
  {
   "cell_type": "code",
   "execution_count": 316,
   "id": "693156d2",
   "metadata": {},
   "outputs": [
    {
     "data": {
      "text/html": [
       "<div>\n",
       "<style scoped>\n",
       "    .dataframe tbody tr th:only-of-type {\n",
       "        vertical-align: middle;\n",
       "    }\n",
       "\n",
       "    .dataframe tbody tr th {\n",
       "        vertical-align: top;\n",
       "    }\n",
       "\n",
       "    .dataframe thead th {\n",
       "        text-align: right;\n",
       "    }\n",
       "</style>\n",
       "<table border=\"1\" class=\"dataframe\">\n",
       "  <thead>\n",
       "    <tr style=\"text-align: right;\">\n",
       "      <th></th>\n",
       "      <th>altura</th>\n",
       "      <th>edad</th>\n",
       "      <th>cluster</th>\n",
       "      <th>cluster_altura</th>\n",
       "      <th>cluster_edad</th>\n",
       "    </tr>\n",
       "  </thead>\n",
       "  <tbody>\n",
       "    <tr>\n",
       "      <th>0</th>\n",
       "      <td>1.77</td>\n",
       "      <td>26</td>\n",
       "      <td>1.0</td>\n",
       "      <td>1.774000</td>\n",
       "      <td>25.450000</td>\n",
       "    </tr>\n",
       "    <tr>\n",
       "      <th>1</th>\n",
       "      <td>1.74</td>\n",
       "      <td>31</td>\n",
       "      <td>0.0</td>\n",
       "      <td>1.670769</td>\n",
       "      <td>30.692308</td>\n",
       "    </tr>\n",
       "    <tr>\n",
       "      <th>2</th>\n",
       "      <td>1.72</td>\n",
       "      <td>24</td>\n",
       "      <td>1.0</td>\n",
       "      <td>1.774000</td>\n",
       "      <td>25.450000</td>\n",
       "    </tr>\n",
       "    <tr>\n",
       "      <th>3</th>\n",
       "      <td>1.78</td>\n",
       "      <td>34</td>\n",
       "      <td>1.0</td>\n",
       "      <td>1.774000</td>\n",
       "      <td>25.450000</td>\n",
       "    </tr>\n",
       "    <tr>\n",
       "      <th>4</th>\n",
       "      <td>1.65</td>\n",
       "      <td>32</td>\n",
       "      <td>0.0</td>\n",
       "      <td>1.670769</td>\n",
       "      <td>30.692308</td>\n",
       "    </tr>\n",
       "  </tbody>\n",
       "</table>\n",
       "</div>"
      ],
      "text/plain": [
       "   altura  edad  cluster  cluster_altura  cluster_edad\n",
       "0    1.77    26      1.0        1.774000     25.450000\n",
       "1    1.74    31      0.0        1.670769     30.692308\n",
       "2    1.72    24      1.0        1.774000     25.450000\n",
       "3    1.78    34      1.0        1.774000     25.450000\n",
       "4    1.65    32      0.0        1.670769     30.692308"
      ]
     },
     "execution_count": 316,
     "metadata": {},
     "output_type": "execute_result"
    }
   ],
   "source": [
    "normales_kmeans = normales.copy()\n",
    "normales_kmeans[\"cluster\"] = cluster\n",
    "normales_kmeans[\"cluster_altura\"] = np.array(kparams.iloc[cluster,:].altura)\n",
    "normales_kmeans[\"cluster_edad\"] = np.array(kparams.iloc[cluster,:].edad)\n",
    "normales_kmeans.head()"
   ]
  },
  {
   "cell_type": "code",
   "execution_count": 317,
   "id": "233eefc7",
   "metadata": {},
   "outputs": [
    {
     "data": {
      "text/plain": [
       "<matplotlib.collections.PathCollection at 0x2984df508e0>"
      ]
     },
     "execution_count": 317,
     "metadata": {},
     "output_type": "execute_result"
    },
    {
     "data": {
      "image/png": "[encoded data removed]",
      "text/plain": [
       "<Figure size 432x288 with 1 Axes>"
      ]
     },
     "metadata": {
      "needs_background": "light"
     },
     "output_type": "display_data"
    }
   ],
   "source": [
    "plt.scatter(normales_kmeans.altura, normales_kmeans.edad, alpha=1, c=normales_kmeans.cluster)"
   ]
  }
 ],
 "metadata": {
  "kernelspec": {
   "display_name": "Python 3 (ipykernel)",
   "language": "python",
   "name": "python3"
  },
  "language_info": {
   "codemirror_mode": {
    "name": "ipython",
    "version": 3
   },
   "file_extension": ".py",
   "mimetype": "text/x-python",
   "name": "python",
   "nbconvert_exporter": "python",
   "pygments_lexer": "ipython3",
   "version": "3.9.12"
  }
 },
 "nbformat": 4,
 "nbformat_minor": 5
}
